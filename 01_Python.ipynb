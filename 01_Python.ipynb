{
 "cells": [
  {
   "cell_type": "markdown",
   "metadata": {
    "id": "-JUOp2KEdHTn"
   },
   "source": [
    "# Numpy\n"
   ]
  },
  {
   "cell_type": "markdown",
   "metadata": {
    "id": "oTtiG3HMz-Rt"
   },
   "source": [
    "Numpy - это библиотека для математических вычислений. Написана на языке С, поэтому считается наиболее предпочтительным вариантом при работе с многомерными массивами из-за производительности.\n",
    "\n",
    "[Официальный сайт](https://numpy.org/doc/stable/) последней версии.\n",
    "\n",
    "Начало работы с `numpy` заключается в подключении модуля. При этом в практике применения есть уже общепринятое сокращение для него под названием `np`:"
   ]
  },
  {
   "cell_type": "code",
   "execution_count": 2,
   "metadata": {
    "id": "2HARN7afZ1Fk"
   },
   "outputs": [],
   "source": [
    "import numpy as np"
   ]
  },
  {
   "cell_type": "markdown",
   "metadata": {
    "id": "81-wHdEbg-qI"
   },
   "source": [
    "> Если вы ранее работали с MATLAB, обратите внимание, как некоторые подходы и функции схожи."
   ]
  },
  {
   "cell_type": "markdown",
   "metadata": {
    "id": "woHgRbgPZ99s"
   },
   "source": [
    "# Создание массивов"
   ]
  },
  {
   "cell_type": "markdown",
   "metadata": {
    "id": "DVVfQ6DwaBUH"
   },
   "source": [
    "Для того, чтобы начать работать с `numpy`, мы должны научиться создавать объекты `ndarray`, которые по сути являются N-мерными массивами."
   ]
  },
  {
   "cell_type": "code",
   "execution_count": 3,
   "metadata": {
    "id": "kQqPek1xZ2y7"
   },
   "outputs": [],
   "source": [
    "# Самый просто способ создать массив numpy - взять уже существующий list и передать в функцию np.array()\n",
    "arr_1d = np.array([1, 2, 3])"
   ]
  },
  {
   "cell_type": "code",
   "execution_count": 4,
   "metadata": {
    "colab": {
     "base_uri": "https://localhost:8080/"
    },
    "id": "7thycVOKbCJ7",
    "outputId": "b741e9a8-8219-47db-bf93-61e314b26b70"
   },
   "outputs": [
    {
     "name": "stdout",
     "output_type": "stream",
     "text": [
      "[1 2 3]\n",
      "<class 'numpy.ndarray'>\n",
      "(3,)\n",
      "1\n",
      "3\n",
      "3\n"
     ]
    }
   ],
   "source": [
    "# Теперь проверим \n",
    "#   - тип объекта c помощью функции type()\n",
    "#   - размерность с помощью аттрибута .shape\n",
    "#   - доступ по индексам, как у обычного list\n",
    "\n",
    "# Для отладки можно выводить небольшие массивы прямо через print()\n",
    "\n",
    "print(arr_1d)\n",
    "print(type(arr_1d))\n",
    "print(arr_1d.shape)\n",
    "print(arr_1d[0])\n",
    "print(arr_1d[2])\n",
    "print(arr_1d[-1])"
   ]
  },
  {
   "cell_type": "markdown",
   "metadata": {
    "id": "90qAyGF8bLLs"
   },
   "source": [
    "> Обратите внимание, индекс с отрицательным значением означает индексацию с конца. Это возможность языка Python. В данном случае индекс -1 ~ 2, так как 2 - последний индекс в массиве из трех элементов. Аналогично, если хотите взять второй элемент с конца, то можете использовать индекс -2 и т.д."
   ]
  },
  {
   "cell_type": "markdown",
   "metadata": {
    "id": "GlDZi0V_bijd"
   },
   "source": [
    "Как видите, объект имеет тип `np.ndarray`, таким образом описываются все массивы при работе с numpy. Размерность представляет собой кортеж с одним элементом (создали 1D массив ~ массив первого ранга в терминах numpy)."
   ]
  },
  {
   "cell_type": "code",
   "execution_count": 5,
   "metadata": {
    "id": "WfMA2hmgcPFH"
   },
   "outputs": [],
   "source": [
    "# Теперь создадим двумерный массив с помощью тех же list\n",
    "arr_2d = np.array([[1, 2, 3], [4, 5, 6]])"
   ]
  },
  {
   "cell_type": "code",
   "execution_count": 6,
   "metadata": {
    "colab": {
     "base_uri": "https://localhost:8080/"
    },
    "id": "ljaLlNS2cdvd",
    "outputId": "3541a7e5-80ac-46bf-d314-01f84744a6c5"
   },
   "outputs": [
    {
     "name": "stdout",
     "output_type": "stream",
     "text": [
      "[[1 2 3]\n",
      " [4 5 6]]\n",
      "<class 'numpy.ndarray'>\n",
      "(2, 3)\n",
      "1\n",
      "6\n",
      "4\n"
     ]
    }
   ],
   "source": [
    "# Проверим также тип, размерность и доступ по индексам\n",
    "\n",
    "print(arr_2d)\n",
    "print(type(arr_2d))\n",
    "print(arr_2d.shape)\n",
    "print(arr_2d[0, 0])\n",
    "print(arr_2d[1, 2])\n",
    "print(arr_2d[1, 0])"
   ]
  },
  {
   "cell_type": "markdown",
   "metadata": {
    "id": "wQKPgHh7cOlh"
   },
   "source": [
    "Теперь видно, что в кортеже размерности стало два элемента, при этом тип объекта никак не поменялся.\n",
    "\n",
    "Индексация в 2D массиве делается уже посредством двух индексов:\n",
    "- первый индекс - номер ряда (строки);\n",
    "- второй индекс - номер колонки (столбца).\n",
    "\n",
    "> В 1D массивах вообще никаких вопросов не возникает, в 2D (ряд, колонка), если разворачивать до 3D массивов, то можно интерпретировать как (ряд, колонка, глубина). Дальнейшие размерности уже сложнее в визуальной интерпретации, поэтому вместо названий для каждой размерности идет просто индексация."
   ]
  },
  {
   "cell_type": "markdown",
   "metadata": {
    "id": "zeUwMz9aem4U"
   },
   "source": [
    "Помимо способов создания массивов из уже существующих представлений в виде `list`, можно также создавать массивы по-другому. Рассмотрим некоторые из них:\n"
   ]
  },
  {
   "cell_type": "code",
   "execution_count": 7,
   "metadata": {
    "id": "W8EnLNXlf6HW"
   },
   "outputs": [
    {
     "data": {
      "text/plain": [
       "array([[0., 0., 0.],\n",
       "       [0., 0., 0.],\n",
       "       [0., 0., 0.],\n",
       "       [0., 0., 0.],\n",
       "       [0., 0., 0.]])"
      ]
     },
     "execution_count": 7,
     "metadata": {},
     "output_type": "execute_result"
    }
   ],
   "source": [
    "# Создание массива фиксированного размера\n",
    "np.ndarray((5, 3))"
   ]
  },
  {
   "cell_type": "markdown",
   "metadata": {
    "id": "IAHEQ5N2gUP_"
   },
   "source": [
    "В представленном способе мы напрямую вызываем конструктор и передаем ему размерность. Какими числами будет заполнен массив - никто не знает. Вероятнее всего, это будут нули, но для уверенности лучше самостоятельно заполнить такой массив данными."
   ]
  },
  {
   "cell_type": "code",
   "execution_count": 8,
   "metadata": {
    "colab": {
     "base_uri": "https://localhost:8080/"
    },
    "id": "U4fnZoDMgJc6",
    "outputId": "aefb44b1-d26e-43ba-8bc3-692a431ab932"
   },
   "outputs": [
    {
     "data": {
      "text/plain": [
       "array([[0., 0., 0.],\n",
       "       [0., 0., 0.]])"
      ]
     },
     "execution_count": 8,
     "metadata": {},
     "output_type": "execute_result"
    }
   ],
   "source": [
    "# Явное создание массива нулей\n",
    "np.zeros((2, 3))"
   ]
  },
  {
   "cell_type": "code",
   "execution_count": 9,
   "metadata": {
    "colab": {
     "base_uri": "https://localhost:8080/"
    },
    "id": "AaJSBHSdgtCY",
    "outputId": "84d005fb-58f2-49da-d8ca-f926f68d9a9e"
   },
   "outputs": [
    {
     "data": {
      "text/plain": [
       "array([[1., 1.],\n",
       "       [1., 1.],\n",
       "       [1., 1.]])"
      ]
     },
     "execution_count": 9,
     "metadata": {},
     "output_type": "execute_result"
    }
   ],
   "source": [
    "# Явное создание массива единиц\n",
    "np.ones((3, 2))"
   ]
  },
  {
   "cell_type": "code",
   "execution_count": 10,
   "metadata": {
    "colab": {
     "base_uri": "https://localhost:8080/"
    },
    "id": "8_elMSoK7wQL",
    "outputId": "8f87f76e-9b37-45c5-a358-582630697c9e"
   },
   "outputs": [
    {
     "data": {
      "text/plain": [
       "array([[5, 5, 5, 5],\n",
       "       [5, 5, 5, 5],\n",
       "       [5, 5, 5, 5]])"
      ]
     },
     "execution_count": 10,
     "metadata": {},
     "output_type": "execute_result"
    }
   ],
   "source": [
    "# Создание массива, заполненного константным значением\n",
    "np.full((3, 4), 5)"
   ]
  },
  {
   "cell_type": "code",
   "execution_count": 11,
   "metadata": {
    "colab": {
     "base_uri": "https://localhost:8080/"
    },
    "id": "iNN2C908gwUB",
    "outputId": "ca7a09ad-2060-413b-afeb-5fac63066056"
   },
   "outputs": [
    {
     "data": {
      "text/plain": [
       "array([[1., 0.],\n",
       "       [0., 1.],\n",
       "       [0., 0.]])"
      ]
     },
     "execution_count": 11,
     "metadata": {},
     "output_type": "execute_result"
    }
   ],
   "source": [
    "# 2D массив с единичной главной диагональю\n",
    "# (*) В этой функции размерность задается не кортежем, а отдельными аргументами\n",
    "np.eye(3, 2)"
   ]
  },
  {
   "cell_type": "code",
   "execution_count": 12,
   "metadata": {
    "colab": {
     "base_uri": "https://localhost:8080/"
    },
    "id": "x8cGz7nIhbbE",
    "outputId": "70fa6f15-0819-4386-9ba7-b123aac710e9"
   },
   "outputs": [
    {
     "data": {
      "text/plain": [
       "array([[0, 0, 0],\n",
       "       [0, 0, 0]])"
      ]
     },
     "execution_count": 12,
     "metadata": {},
     "output_type": "execute_result"
    }
   ],
   "source": [
    "# Создание массива нулей с такой же размерностью, как уже существующий\n",
    "arr_2d = np.array([[1, 2, 3], [4, 5, 6]])\n",
    "\n",
    "np.zeros_like(arr_2d)"
   ]
  },
  {
   "cell_type": "code",
   "execution_count": 13,
   "metadata": {
    "colab": {
     "base_uri": "https://localhost:8080/"
    },
    "id": "BqDTBiWzhj9R",
    "outputId": "d01daf3c-e5f7-4bba-9d52-622fb692393f"
   },
   "outputs": [
    {
     "data": {
      "text/plain": [
       "array([[1, 1, 1],\n",
       "       [1, 1, 1]])"
      ]
     },
     "execution_count": 13,
     "metadata": {},
     "output_type": "execute_result"
    }
   ],
   "source": [
    "# Создание массива единиц с такой же размерностью, как уже существующий\n",
    "arr_2d = np.array([[1, 2, 3], [4, 5, 6]])\n",
    "\n",
    "np.ones_like(arr_2d)"
   ]
  },
  {
   "cell_type": "code",
   "execution_count": 14,
   "metadata": {
    "colab": {
     "base_uri": "https://localhost:8080/"
    },
    "id": "MOqhVLYL7flG",
    "outputId": "b0523163-9a28-45e9-e90f-ab137e529e8a"
   },
   "outputs": [
    {
     "data": {
      "text/plain": [
       "array([[0.42425753, 0.14906297],\n",
       "       [0.37429205, 0.76673647]])"
      ]
     },
     "execution_count": 14,
     "metadata": {},
     "output_type": "execute_result"
    }
   ],
   "source": [
    "# Создание массива со случайными значениями в интервале [0; 1.0)\n",
    "np.random.random((2,2))"
   ]
  },
  {
   "cell_type": "code",
   "execution_count": 15,
   "metadata": {
    "colab": {
     "base_uri": "https://localhost:8080/"
    },
    "id": "PwWoeq26zmFm",
    "outputId": "047d73b0-f83c-4706-b24e-f64fa5155652"
   },
   "outputs": [
    {
     "data": {
      "text/plain": [
       "array([1. , 2.5, 4. , 5.5, 7. , 8.5])"
      ]
     },
     "execution_count": 15,
     "metadata": {},
     "output_type": "execute_result"
    }
   ],
   "source": [
    "# Аналог функции range\n",
    "np.arange(start=1, stop=10, step=1.5)"
   ]
  },
  {
   "cell_type": "code",
   "execution_count": 16,
   "metadata": {
    "colab": {
     "base_uri": "https://localhost:8080/"
    },
    "id": "adlhJ7Hnz-z9",
    "outputId": "3a11dfa3-42f4-4869-abd1-3dbb80824024"
   },
   "outputs": [
    {
     "data": {
      "text/plain": [
       "array([1.        , 1.11111111, 1.22222222, 1.33333333, 1.44444444,\n",
       "       1.55555556, 1.66666667, 1.77777778, 1.88888889, 2.        ])"
      ]
     },
     "execution_count": 16,
     "metadata": {},
     "output_type": "execute_result"
    }
   ],
   "source": [
    "# Также создание диапазона значений, но уже с заданием количества элементов\n",
    "# (*) stop уже входит в создаваемый диапазон\n",
    "np.linspace(start=1, stop=2, num=10)"
   ]
  },
  {
   "cell_type": "markdown",
   "metadata": {
    "id": "S-szHgm6hq7X"
   },
   "source": [
    "# Хитрая индексация"
   ]
  },
  {
   "cell_type": "markdown",
   "metadata": {
    "id": "LYFlLDO5huxy"
   },
   "source": [
    "Индексация в Python не ограничивается заданием конкретных индексов для получения значений в контейнерах (стандартных или массивов `ndarray`). Существуют специальные символы и подходы для работы с диапазонами данных, которые не только упрощают и улучшают код, но и выполняются более быстро, нежели проходы по массивам циклом.\n",
    "\n",
    "Начнем со знакомства с символом `:`, который позволяет задавать диапазон индексов для чтения/записи контейнеров."
   ]
  },
  {
   "cell_type": "code",
   "execution_count": 17,
   "metadata": {
    "id": "9UClHM52huJi"
   },
   "outputs": [],
   "source": [
    "# Для начала на простом списке (1D массива)\n",
    "# Следующее создание массива можно заменить list(range(1, 11))\n",
    "arr = [1, 2, 3, 4, 5, 6, 7, 8, 9, 10]"
   ]
  },
  {
   "cell_type": "code",
   "execution_count": 18,
   "metadata": {
    "colab": {
     "base_uri": "https://localhost:8080/"
    },
    "id": "eltg4vei7P2R",
    "outputId": "26fa7d9d-ebf9-4c9b-bfeb-635dbead5154"
   },
   "outputs": [
    {
     "name": "stdout",
     "output_type": "stream",
     "text": [
      "1\n",
      "9\n",
      "6\n"
     ]
    }
   ],
   "source": [
    "# Простая индексация\n",
    "print(arr[0])\n",
    "print(arr[-2])\n",
    "print(arr[5])"
   ]
  },
  {
   "cell_type": "markdown",
   "metadata": {
    "id": "dzWHdiZw8GlN"
   },
   "source": [
    "Для получения подмассива (части массива) или записи в подмассив используется нотация $$index_{start}:index_{end}:step$$\n",
    "\n",
    "- $index_{start}$ - индекс начала подмассива\n",
    "- $index_{end}$ - индекс конца подмассива\n",
    "- $step$ - шаг подмассива"
   ]
  },
  {
   "cell_type": "code",
   "execution_count": 19,
   "metadata": {
    "colab": {
     "base_uri": "https://localhost:8080/"
    },
    "id": "w3x1hjul7ZnM",
    "outputId": "380de424-46a8-4282-c530-4ed3f3a58b9c"
   },
   "outputs": [
    {
     "name": "stdout",
     "output_type": "stream",
     "text": [
      "[3, 5, 7]\n"
     ]
    }
   ],
   "source": [
    "# Получение части массива от 2го элемента до 6го (не включительно) \n",
    "#   с шагом 2 \n",
    "print(arr[2:8:2])"
   ]
  },
  {
   "cell_type": "code",
   "execution_count": 20,
   "metadata": {
    "colab": {
     "base_uri": "https://localhost:8080/"
    },
    "id": "UeghJuRp9XSG",
    "outputId": "935a5aa8-4e91-4172-aabd-fc739e8bee09"
   },
   "outputs": [
    {
     "name": "stdout",
     "output_type": "stream",
     "text": [
      "[3, 4, 5, 6, 7, 8]\n"
     ]
    }
   ],
   "source": [
    "# Если шаг не задан, то он равен единице (при этом второй раз : не пишется)\n",
    "print(arr[2:8])"
   ]
  },
  {
   "cell_type": "code",
   "execution_count": 21,
   "metadata": {
    "colab": {
     "base_uri": "https://localhost:8080/"
    },
    "id": "f2et5vq_9YQ0",
    "outputId": "4aa4c31d-dbf1-482b-cc4e-c47bde76cdf3"
   },
   "outputs": [
    {
     "name": "stdout",
     "output_type": "stream",
     "text": [
      "[9, 8, 7, 6, 5, 4]\n"
     ]
    }
   ],
   "source": [
    "# Шаг может быть и отрицательным (индексы меняются местами)\n",
    "print(arr[8:2:-1])"
   ]
  },
  {
   "cell_type": "code",
   "execution_count": 22,
   "metadata": {
    "colab": {
     "base_uri": "https://localhost:8080/"
    },
    "id": "THxAw6mR9ZK1",
    "outputId": "f6e843cb-9d73-4c8f-fcc6-a3d171ff94a2"
   },
   "outputs": [
    {
     "name": "stdout",
     "output_type": "stream",
     "text": [
      "[3, 4, 5, 6, 7, 8, 9, 10]\n",
      "[1, 2, 3, 4, 5, 6, 7, 8]\n"
     ]
    }
   ],
   "source": [
    "# Если не задавать index_start или index_end, \n",
    "#   то они будут равны индексу начала и конца массива\n",
    "print(arr[2:])\n",
    "print(arr[:8])"
   ]
  },
  {
   "cell_type": "code",
   "execution_count": 23,
   "metadata": {
    "colab": {
     "base_uri": "https://localhost:8080/"
    },
    "id": "Ti3t0ZVa9gfe",
    "outputId": "c03b92fb-557b-4ad9-d441-054993913e2e"
   },
   "outputs": [
    {
     "name": "stdout",
     "output_type": "stream",
     "text": [
      "[3, 5, 7, 9]\n",
      "[1, 4, 7]\n"
     ]
    }
   ],
   "source": [
    "# Можно комбинировать один из индексов и шаг\n",
    "print(arr[2::2])\n",
    "print(arr[:8:3])"
   ]
  },
  {
   "cell_type": "code",
   "execution_count": 24,
   "metadata": {
    "colab": {
     "base_uri": "https://localhost:8080/"
    },
    "id": "xj257QBQ-LsQ",
    "outputId": "2a41150f-4d99-42de-d900-7fae1efc81d1"
   },
   "outputs": [
    {
     "name": "stdout",
     "output_type": "stream",
     "text": [
      "[1, 1, 2, 3, 4, 6, 7, 8, 9, 10]\n"
     ]
    }
   ],
   "source": [
    "# И не забываем, что все трюки работают и на запись\n",
    "new_arr = list(range(1, 11))\n",
    "\n",
    "new_arr[1:5] = arr[:4]\n",
    "print(new_arr)"
   ]
  },
  {
   "cell_type": "code",
   "execution_count": 25,
   "metadata": {
    "colab": {
     "base_uri": "https://localhost:8080/"
    },
    "id": "UiQHCjYPAreX",
    "outputId": "4463ed5e-853e-4ef3-ee00-dbbe3debaa7e"
   },
   "outputs": [
    {
     "name": "stdout",
     "output_type": "stream",
     "text": [
      "[1, 2, 3, 4, 5, 6, 7, 8, 9, 10]\n"
     ]
    }
   ],
   "source": [
    "# Не самая полезная, но все же запись (получить весь диапазон)\n",
    "print(arr[:])"
   ]
  },
  {
   "cell_type": "markdown",
   "metadata": {
    "id": "Y1CX7Bpi91aI"
   },
   "source": [
    "## Задание\n",
    "\n",
    "Объясните результат операции:"
   ]
  },
  {
   "cell_type": "code",
   "execution_count": 26,
   "metadata": {
    "colab": {
     "base_uri": "https://localhost:8080/"
    },
    "id": "HRS-xvPK97di",
    "outputId": "0c77275f-584e-49ae-dc3f-5530d0645fe6"
   },
   "outputs": [
    {
     "name": "stdout",
     "output_type": "stream",
     "text": [
      "[10, 8]\n"
     ]
    }
   ],
   "source": [
    "print(arr[:5:-2]) # Порядок индекса - сзади вперед, размер шага: 2."
   ]
  },
  {
   "cell_type": "markdown",
   "metadata": {
    "id": "CmTGLk0n_K8w"
   },
   "source": [
    "## Задание\n",
    "\n",
    "Получите перевернутый список:"
   ]
  },
  {
   "cell_type": "code",
   "execution_count": 27,
   "metadata": {
    "colab": {
     "base_uri": "https://localhost:8080/"
    },
    "id": "7XJaNnuf_TUl",
    "outputId": "8c22e354-08e7-4e70-c100-68188b8c3807"
   },
   "outputs": [
    {
     "name": "stdout",
     "output_type": "stream",
     "text": [
      "[0, 1, 2, 3, 4, 5, 6, 7, 8, 9]\n"
     ]
    }
   ],
   "source": [
    "data = list(range(10))\n",
    "print(data)\n",
    "\n",
    "# TODO - [9, 8, 7, 6, 5, 4, 3, 2, 1, 0]"
   ]
  },
  {
   "cell_type": "markdown",
   "metadata": {
    "id": "TT3t4yG5B8XW"
   },
   "source": [
    "## Задание\n",
    "\n",
    "Получите массив без первого и двух последних элементов:"
   ]
  },
  {
   "cell_type": "code",
   "execution_count": 28,
   "metadata": {
    "colab": {
     "base_uri": "https://localhost:8080/"
    },
    "id": "evJXMrHrCFFj",
    "outputId": "87b445ba-e237-421e-e2d0-470c30f228cd"
   },
   "outputs": [
    {
     "name": "stdout",
     "output_type": "stream",
     "text": [
      "[0, 1, 2, 3, 4, 5, 6, 7, 8, 9]\n"
     ]
    },
    {
     "data": {
      "text/plain": [
       "[9, 8, 7, 6, 5, 4, 3, 2, 1, 0]"
      ]
     },
     "execution_count": 28,
     "metadata": {},
     "output_type": "execute_result"
    }
   ],
   "source": [
    "data = list(range(10))\n",
    "print(data)\n",
    "data[::-1]"
   ]
  },
  {
   "cell_type": "markdown",
   "metadata": {
    "id": "yr_Sgpxeg7nG"
   },
   "source": [
    "# Хитрая индексация в матрицах"
   ]
  },
  {
   "cell_type": "markdown",
   "metadata": {
    "id": "4vzYWeA1_nL4"
   },
   "source": [
    "Работа с одномерными списками удобна даже через класс `list`, но 2D массивы уже удобнее использовать через библиотеку numpy. Использование numpy никак не ограничивает применение такой индексации, так что можно делать много классных штук:"
   ]
  },
  {
   "cell_type": "code",
   "execution_count": 29,
   "metadata": {
    "colab": {
     "base_uri": "https://localhost:8080/"
    },
    "id": "roSKMhOd_7HG",
    "outputId": "ac72cf7c-2ff5-4ab8-f560-3b63eecd66d2"
   },
   "outputs": [
    {
     "name": "stdout",
     "output_type": "stream",
     "text": [
      "[[ 1  2  3  4]\n",
      " [ 5  6  7  8]\n",
      " [ 9 10 11 12]]\n"
     ]
    }
   ],
   "source": [
    "arr = np.array([[1, 2, 3, 4], [5, 6, 7, 8], [9, 10, 11, 12]])\n",
    "print(arr)"
   ]
  },
  {
   "cell_type": "markdown",
   "metadata": {
    "id": "bw7Re8l_ASG0"
   },
   "source": [
    "В индексации numpy есть очень полезное правило: если последующие индексы не заданы, то они принимаются как \"весь диапазон\". Например, в двумерном массиве мы индексируем по двум числам $[3, 2]$. Если в 2D массиве задать индекс $[3]$, то это эквивалентно индексации $[3, :]$, то есть третий ряд, все колонки.\n",
    "\n",
    "В плане предшествующих индексов это не работает, поэтому, чтобы получить целую колонку, надо индексировать $[:, 2]$."
   ]
  },
  {
   "cell_type": "code",
   "execution_count": 30,
   "metadata": {
    "colab": {
     "base_uri": "https://localhost:8080/"
    },
    "id": "KhiA2r2-AK5d",
    "outputId": "21603ffd-375c-4ec8-caa8-1912e8e923ed"
   },
   "outputs": [
    {
     "name": "stdout",
     "output_type": "stream",
     "text": [
      "[ 9 10 11 12]\n",
      "[ 9 10 11 12]\n"
     ]
    }
   ],
   "source": [
    "# Получим вторую строку массива\n",
    "print(arr[2])\n",
    "print(arr[2, :])"
   ]
  },
  {
   "cell_type": "code",
   "execution_count": 31,
   "metadata": {
    "colab": {
     "base_uri": "https://localhost:8080/"
    },
    "id": "dF2bEK7dBU5C",
    "outputId": "a0f50b6c-3db4-4563-faa1-8a9353107d3f"
   },
   "outputs": [
    {
     "name": "stdout",
     "output_type": "stream",
     "text": [
      "[ 2  6 10]\n"
     ]
    }
   ],
   "source": [
    "# Получим первую колонку массива\n",
    "print(arr[:, 1])"
   ]
  },
  {
   "cell_type": "code",
   "execution_count": 32,
   "metadata": {
    "colab": {
     "base_uri": "https://localhost:8080/"
    },
    "id": "MjkcYLIUBoIZ",
    "outputId": "2784f18f-33ac-4a92-946e-16b0fa437189"
   },
   "outputs": [
    {
     "name": "stdout",
     "output_type": "stream",
     "text": [
      "[5 6]\n"
     ]
    }
   ],
   "source": [
    "# Получить первые два элемента (первые две колонки) первого ряда\n",
    "print(arr[1, :2])"
   ]
  },
  {
   "cell_type": "code",
   "execution_count": 33,
   "metadata": {
    "colab": {
     "base_uri": "https://localhost:8080/"
    },
    "id": "nsjlZWVkC4JV",
    "outputId": "0ea22684-68fc-43f1-d2d9-169a61f96893"
   },
   "outputs": [
    {
     "name": "stdout",
     "output_type": "stream",
     "text": [
      "[[ 1  2  3  4]\n",
      " [ 5  6  7  8]\n",
      " [ 9 10 11 12]]\n",
      "[[1 2 3 4]\n",
      " [5 6 7 8]\n",
      " [5 6 7 8]]\n"
     ]
    }
   ],
   "source": [
    "# Можно повторять целые части массива\n",
    "#   (но при этом должны соотноситься размерности)\n",
    "# ndarray.copy() - функция копирования массива\n",
    "# Копируем, чтобы не изменить оригинальный\n",
    "new_arr = arr.copy()\n",
    "print(arr)\n",
    "\n",
    "new_arr[2, :] = arr[1, :]\n",
    "print(new_arr)"
   ]
  },
  {
   "cell_type": "code",
   "execution_count": 34,
   "metadata": {
    "colab": {
     "base_uri": "https://localhost:8080/"
    },
    "id": "Cok9ET1xDpHL",
    "outputId": "38b46d38-48f6-496b-b829-46c53f46a1e8"
   },
   "outputs": [
    {
     "name": "stdout",
     "output_type": "stream",
     "text": [
      "[[1 2]\n",
      " [5 6]]\n",
      "(2, 2)\n"
     ]
    }
   ],
   "source": [
    "# При этом, такая индексация - это новый массив со своей размерностью.\n",
    "print(arr[:2, :2])\n",
    "print(arr[:2, :2].shape)"
   ]
  },
  {
   "cell_type": "code",
   "execution_count": 35,
   "metadata": {
    "colab": {
     "base_uri": "https://localhost:8080/"
    },
    "id": "cc0YJBmSEDlb",
    "outputId": "540fdfe5-15c9-48a4-e263-2af3a79fc77f"
   },
   "outputs": [
    {
     "name": "stdout",
     "output_type": "stream",
     "text": [
      "[[ 1  4]\n",
      " [ 5  8]\n",
      " [ 9 12]]\n"
     ]
    }
   ],
   "source": [
    "# В качестве индексов можно также задавать другие массивы\n",
    "# Получаем первую и последнюю колонки\n",
    "print(arr[:, [0, -1]])"
   ]
  },
  {
   "cell_type": "code",
   "execution_count": 36,
   "metadata": {
    "colab": {
     "base_uri": "https://localhost:8080/"
    },
    "id": "296Ww5MDFaY4",
    "outputId": "163969b0-96b1-4757-ae59-292aa66425ab"
   },
   "outputs": [
    {
     "name": "stdout",
     "output_type": "stream",
     "text": [
      "[[ 9 10 11 12]\n",
      " [ 1  2  3  4]\n",
      " [ 5  6  7  8]]\n"
     ]
    }
   ],
   "source": [
    "# И таким образом никто не заставляет писать в том же порядке индексы\n",
    "# Перемешаем ряды\n",
    "print(arr[[2, 0, 1], :])"
   ]
  },
  {
   "cell_type": "code",
   "execution_count": 37,
   "metadata": {
    "colab": {
     "base_uri": "https://localhost:8080/"
    },
    "id": "RFkxEluyFpZb",
    "outputId": "d5299463-5e11-485e-c8d0-d8b1beaeda3b"
   },
   "outputs": [
    {
     "name": "stdout",
     "output_type": "stream",
     "text": [
      "[10  4]\n",
      "10 4\n"
     ]
    }
   ],
   "source": [
    "# Также, можно комбинировать способы задания\n",
    "print(arr[[2, 0], [1, 3]])\n",
    "# То же самое, только первая запись дает массив\n",
    "print(arr[2, 1], arr[0, 3])"
   ]
  },
  {
   "cell_type": "code",
   "execution_count": 38,
   "metadata": {
    "colab": {
     "base_uri": "https://localhost:8080/"
    },
    "id": "EKQkjUnxE4vN",
    "outputId": "483bf43c-b864-437c-909d-1c534c2a7116"
   },
   "outputs": [
    {
     "name": "stdout",
     "output_type": "stream",
     "text": [
      "[0, 1, 2]\n",
      "[2, 1, 0]\n",
      "----------------\n",
      "[[ 9 10 11 12]\n",
      " [ 5  6  7  8]\n",
      " [ 1  2  3  4]]\n"
     ]
    }
   ],
   "source": [
    "# Создаем список возможных индексов для рядов массива\n",
    "row_indices = list(range(arr.shape[0]))\n",
    "print(row_indices)\n",
    "\n",
    "# Переворачиваем его\n",
    "row_indices = list(reversed(row_indices))\n",
    "print(row_indices)\n",
    "\n",
    "# Используем для индексации\n",
    "print('----------------')\n",
    "print(arr[row_indices])"
   ]
  },
  {
   "cell_type": "markdown",
   "metadata": {
    "id": "4jVVCGMSCPWu"
   },
   "source": [
    "## Задание\n",
    "\n",
    "Получите массив без крайних рядов и колонок (по одной с каждой стороны)"
   ]
  },
  {
   "cell_type": "code",
   "execution_count": 39,
   "metadata": {
    "colab": {
     "base_uri": "https://localhost:8080/"
    },
    "id": "rJegDeQ6CcTD",
    "outputId": "d851c8cb-11d0-4b38-a2a0-75552bf50ca6"
   },
   "outputs": [
    {
     "name": "stdout",
     "output_type": "stream",
     "text": [
      "[[3 2 6 8 6 1]\n",
      " [0 1 6 1 1 8]\n",
      " [0 5 8 1 9 3]\n",
      " [0 7 0 9 2 2]\n",
      " [2 0 5 5 9 1]]\n",
      "[[3 2 6 8 6]\n",
      " [0 1 6 1 1]\n",
      " [0 5 8 1 9]\n",
      " [0 7 0 9 2]]\n"
     ]
    }
   ],
   "source": [
    "data = np.random.randint(low=0, high=10, size=(5, 6))\n",
    "print(data)\n",
    "print(data[:4,:5])"
   ]
  },
  {
   "cell_type": "markdown",
   "metadata": {
    "id": "7R_2MeNRGsNq"
   },
   "source": [
    "## Задание\n",
    "\n",
    "Произведите перемешивание колонок с помощью функции `numpy.random.permutation()`:\n",
    "\n",
    "<details>\n",
    "<summary>Подсказка</summary>\n",
    "\n",
    "Перемешать колонки можно путем перемешивания списка возможных индексов колонок (`range(<col_count>)`) и затем индексацией этого списка по индексам колонок (`[:, cols]`).\n",
    "</details>"
   ]
  },
  {
   "cell_type": "code",
   "execution_count": 40,
   "metadata": {
    "colab": {
     "base_uri": "https://localhost:8080/"
    },
    "id": "EawZBVacHHk4",
    "outputId": "cbdfa04b-043d-4200-a40b-70277122f0f6"
   },
   "outputs": [
    {
     "name": "stdout",
     "output_type": "stream",
     "text": [
      "[[0 1 7 5 0 3]\n",
      " [7 1 0 4 1 2]\n",
      " [1 2 6 0 2 0]]\n",
      "[3 4 5 0 1 2]\n"
     ]
    },
    {
     "data": {
      "text/plain": [
       "array([[5, 0, 3, 0, 1, 7],\n",
       "       [4, 1, 2, 7, 1, 0],\n",
       "       [0, 2, 0, 1, 2, 6]])"
      ]
     },
     "execution_count": 40,
     "metadata": {},
     "output_type": "execute_result"
    }
   ],
   "source": [
    "data = np.random.randint(low=0, high=10, size=(3, 6))\n",
    "print(data)\n",
    "col = np.random.permutation(list(range(data.shape[1])))\n",
    "print(col)\n",
    "data[:, col]"
   ]
  },
  {
   "cell_type": "markdown",
   "metadata": {
    "id": "RKssiBX6IWQ4"
   },
   "source": [
    "# Типы данных в массивах"
   ]
  },
  {
   "cell_type": "markdown",
   "metadata": {
    "id": "1W373guIIYpQ"
   },
   "source": [
    "Массивы в numpy имеют не только размер, но и конкретный тип данных, которые хранятся внутри массива. При создании массива почти все функции создания имеют аргумент `dtype`, который означает, с каким типом создать данным массив. Также, класс `ndarray` имеет атрибут `dtype`, который означает тип хранимых данных. "
   ]
  },
  {
   "cell_type": "markdown",
   "metadata": {
    "id": "RkaZp3yUQ2l9"
   },
   "source": [
    "Подробнее можно прочитать в [документации](https://numpy.org/doc/stable/reference/arrays.dtypes.html)."
   ]
  },
  {
   "cell_type": "code",
   "execution_count": 41,
   "metadata": {
    "colab": {
     "base_uri": "https://localhost:8080/"
    },
    "id": "hhX2FD0xJC50",
    "outputId": "60a043ab-8128-472a-ace4-62fe98c9a3b3"
   },
   "outputs": [
    {
     "name": "stdout",
     "output_type": "stream",
     "text": [
      "int32\n"
     ]
    }
   ],
   "source": [
    "# Создадим массив без задания типа - тип будет определен автоматически\n",
    "arr = np.array([[1, 2, 3, 4], [5, 6, 7, 8], [9, 10, 11, 12]])\n",
    "print(arr.dtype)\n",
    "\n",
    "# int, так как все элементы являются целочисленными"
   ]
  },
  {
   "cell_type": "code",
   "execution_count": 42,
   "metadata": {
    "colab": {
     "base_uri": "https://localhost:8080/"
    },
    "id": "pVSghFu5JQTO",
    "outputId": "9fd51ddd-5520-4acd-9be9-02f6bc11404b"
   },
   "outputs": [
    {
     "name": "stdout",
     "output_type": "stream",
     "text": [
      "float64\n"
     ]
    }
   ],
   "source": [
    "# Изменим один элемент на вещественный\n",
    "arr = np.array([[1.5, 2, 3, 4], [5, 6, 7, 8], [9, 10, 11, 12]])\n",
    "print(arr.dtype)\n",
    "\n",
    "# Один из элементов float, поэтому весь массив будет float"
   ]
  },
  {
   "cell_type": "code",
   "execution_count": 43,
   "metadata": {
    "colab": {
     "base_uri": "https://localhost:8080/"
    },
    "id": "OfAofWauJePj",
    "outputId": "454709e1-4461-4aff-cd8b-a05a987e7021"
   },
   "outputs": [
    {
     "name": "stdout",
     "output_type": "stream",
     "text": [
      "[[ 1  1  2]\n",
      " [-1  2 -1]]\n",
      "int32\n"
     ]
    }
   ],
   "source": [
    "# Зададим явно тип массива\n",
    "# Хоть массив и содержит вещественные числа\n",
    "# мы создаем массив целочисленных, что приводит\n",
    "# к округлению\n",
    "arr = np.array([[1.1, 1.6, 2.4], [-1.7, 2.6, -1.2]], dtype=int)\n",
    "print(arr)\n",
    "print(arr.dtype)"
   ]
  },
  {
   "cell_type": "code",
   "execution_count": 44,
   "metadata": {
    "colab": {
     "base_uri": "https://localhost:8080/"
    },
    "id": "Nj1UkwjDKBr1",
    "outputId": "0e799368-3641-4c51-9bfd-a2b2d63c64d8"
   },
   "outputs": [
    {
     "name": "stdout",
     "output_type": "stream",
     "text": [
      "[[ 1.1  1.6  2.4]\n",
      " [-1.7  2.6 -1.2]]\n",
      "float64\n",
      "----------\n",
      "[[ 1  1  2]\n",
      " [-1  2 -1]]\n",
      "int32\n"
     ]
    }
   ],
   "source": [
    "# Создаем массив вещественных\n",
    "arr = np.array([[1.1, 1.6, 2.4], [-1.7, 2.6, -1.2]])\n",
    "print(arr)\n",
    "print(arr.dtype)\n",
    "print('----------')\n",
    "# Но в какой-то момент нам нужно привести массив к целочисленным\n",
    "# Воспользуемся методом ndarray.astype()\n",
    "arr = arr.astype(int)\n",
    "print(arr)\n",
    "print(arr.dtype)"
   ]
  },
  {
   "cell_type": "code",
   "execution_count": 45,
   "metadata": {
    "colab": {
     "base_uri": "https://localhost:8080/"
    },
    "id": "4Zv5Ss7KKa77",
    "outputId": "f4107355-8e23-4816-dfc3-8f07a0b2c5d4"
   },
   "outputs": [
    {
     "name": "stdout",
     "output_type": "stream",
     "text": [
      "[[ 1  1  2]\n",
      " [-1  2 -1]]\n",
      "[[ 1 10  2]\n",
      " [-1  2 -1]]\n"
     ]
    }
   ],
   "source": [
    "# При этом попытки записать в целочисленный массив \n",
    "# вещественное число приводят к округлению\n",
    "arr = np.array([[1.1, 1.6, 2.4], [-1.7, 2.6, -1.2]], dtype=int)\n",
    "print(arr)\n",
    "\n",
    "arr[0, 1] = 10.12\n",
    "print(arr)"
   ]
  },
  {
   "cell_type": "markdown",
   "metadata": {
    "id": "MVMN0qd7HlFu"
   },
   "source": [
    "# Булевы операции над массивами"
   ]
  },
  {
   "cell_type": "markdown",
   "metadata": {
    "id": "8CjSRYurH1mk"
   },
   "source": [
    "Массивы numpy поддерживают операции сравнения, которые генерируют так называемые маски."
   ]
  },
  {
   "cell_type": "code",
   "execution_count": 46,
   "metadata": {
    "colab": {
     "base_uri": "https://localhost:8080/"
    },
    "id": "buwe4r-2IDdO",
    "outputId": "8015faaa-1743-4d8c-8849-b559e70540f2"
   },
   "outputs": [
    {
     "name": "stdout",
     "output_type": "stream",
     "text": [
      "[[ 1  2  3  4]\n",
      " [ 5  6  7  8]\n",
      " [ 9 10 11 12]]\n"
     ]
    }
   ],
   "source": [
    "arr = np.array([[1, 2, 3, 4], [5, 6, 7, 8], [9, 10, 11, 12]])\n",
    "print(arr)"
   ]
  },
  {
   "cell_type": "code",
   "execution_count": 47,
   "metadata": {
    "colab": {
     "base_uri": "https://localhost:8080/"
    },
    "id": "rGNfFg2RIJE5",
    "outputId": "ad3f2fa4-ded4-4469-f1b9-2bc47cc8859f"
   },
   "outputs": [
    {
     "name": "stdout",
     "output_type": "stream",
     "text": [
      "[[False False False False]\n",
      " [False False  True  True]\n",
      " [ True  True  True  True]]\n",
      "bool\n"
     ]
    }
   ],
   "source": [
    "# Произведем сравнение с числом\n",
    "result = arr > 6\n",
    "print(result)\n",
    "print(result.dtype)"
   ]
  },
  {
   "cell_type": "markdown",
   "metadata": {
    "id": "ZfYWaYzSIPlU"
   },
   "source": [
    "Как видно, в результате операции создается такой же массив, но с булевым типом. Так мы получаем маску элементов, которые соответсвуют условию булевого выражения.\n",
    "\n",
    "Как и с простым булевым типом, маски можно совмещать булевыми операциями:"
   ]
  },
  {
   "cell_type": "code",
   "execution_count": 48,
   "metadata": {
    "colab": {
     "base_uri": "https://localhost:8080/"
    },
    "id": "ruFSuJzwNoME",
    "outputId": "6dd4801b-ba96-4091-d9fb-1d4e3d6f3ce1"
   },
   "outputs": [
    {
     "name": "stdout",
     "output_type": "stream",
     "text": [
      "[[False False False False]\n",
      " [False False  True  True]\n",
      " [ True  True  True  True]]\n",
      "[[ True  True  True  True]\n",
      " [ True  True  True  True]\n",
      " [ True False False False]]\n",
      "----------\n",
      "[[False False False False]\n",
      " [False False  True  True]\n",
      " [ True False False False]]\n",
      "[[False False False False]\n",
      " [False False  True  True]\n",
      " [ True False False False]]\n"
     ]
    }
   ],
   "source": [
    "result_1 = arr > 6\n",
    "result_2 = arr < 10\n",
    "print(result_1)\n",
    "print(result_2)\n",
    "\n",
    "print('----------')\n",
    "# Следующие две операции идентичны, но для второй скобки обязательны!\n",
    "print(result_1 & result_2)\n",
    "print((arr > 6) & (arr < 10))"
   ]
  },
  {
   "cell_type": "markdown",
   "metadata": {
    "id": "q-2ToYvBLaLb"
   },
   "source": [
    "При работе с масками полезно помнить про функции `np.all()` и `np.any()`, которые имеют следующие описания:\n",
    "- `all` - проверка на то, что все элементы в массиве имеют значение True (аналог операции И);\n",
    "- `any` - проверка, что хотя бы один элемент в массиве имеет значение True (аналог операции ИЛИ)."
   ]
  },
  {
   "cell_type": "markdown",
   "metadata": {
    "id": "xOxMSvvfL0Yj"
   },
   "source": [
    "## Задание\n",
    "\n",
    "Определите, имеется ли хотя бы одно значение больше пяти и меньше восьми в массиве:"
   ]
  },
  {
   "cell_type": "code",
   "execution_count": 49,
   "metadata": {
    "colab": {
     "base_uri": "https://localhost:8080/"
    },
    "id": "GM6BqDDcMK4X",
    "outputId": "33677c59-5df5-4d2c-a6dc-24acf840adc4"
   },
   "outputs": [
    {
     "name": "stdout",
     "output_type": "stream",
     "text": [
      "[[ 1  2  3  4]\n",
      " [ 5  6  7  8]\n",
      " [ 9 10 11 12]]\n"
     ]
    },
    {
     "data": {
      "text/plain": [
       "True"
      ]
     },
     "execution_count": 49,
     "metadata": {},
     "output_type": "execute_result"
    }
   ],
   "source": [
    "arr = np.array([[1, 2, 3, 4], [5, 6, 7, 8], [9, 10, 11, 12]])\n",
    "print(arr)\n",
    "np.any((arr>5)&(arr<8))"
   ]
  },
  {
   "cell_type": "markdown",
   "metadata": {
    "id": "zEuM4ZnWHUm5"
   },
   "source": [
    "# Больше индексации"
   ]
  },
  {
   "cell_type": "markdown",
   "metadata": {
    "id": "F62Ol7oXHWlu"
   },
   "source": [
    "Помимо индексации с помощью диапазонов и списков индексов numpy поддерживает индексацию с помощью булевых массивов."
   ]
  },
  {
   "cell_type": "code",
   "execution_count": 50,
   "metadata": {
    "id": "Vpt6OK_RHfyG"
   },
   "outputs": [],
   "source": [
    "arr = np.array([[1, 2, 3, 4], [5, 6, 7, 8], [9, 10, 11, 12]])"
   ]
  },
  {
   "cell_type": "code",
   "execution_count": 51,
   "metadata": {
    "colab": {
     "base_uri": "https://localhost:8080/"
    },
    "id": "G0YBhqI3MpUr",
    "outputId": "00d20b7d-9044-4d90-c4f2-f5fff887ac15"
   },
   "outputs": [
    {
     "name": "stdout",
     "output_type": "stream",
     "text": [
      "[[False False False False]\n",
      " [False False  True  True]\n",
      " [ True  True  True  True]]\n",
      "[ 7  8  9 10 11 12]\n"
     ]
    }
   ],
   "source": [
    "# Получим маску и воспользуемся ею для индексации\n",
    "mask = arr > 6\n",
    "print(mask)\n",
    "print(arr[mask])"
   ]
  },
  {
   "cell_type": "markdown",
   "metadata": {
    "id": "hyCi34eKM33_"
   },
   "source": [
    "Обратите внимание, такая индексация по всему массиву приводит к созданию 1D массива из-за того, что элементы имеют неравномерное расположение, так что они представляются в выпрямленном виде (flattened).\n",
    "\n",
    "> Выпрямленное представление - приведение массива любой размерности к 1D представлению. Для этого есть метод `ndarray.flatten()`. Происходит это путем разворачивания массива в одномерный, проходом по индексам, начиная с последней размерности: в 2D случае мы берем элемент 1-го рядя, 1-й колонки, затем 1-го ряда, 2-й колонки, как закончим со всем рядом, то переходим на следующий и снова по колонкам. Для 3D массивов - сначала полностью разворачивается глубина, затем колонки, затем ряды."
   ]
  },
  {
   "cell_type": "code",
   "execution_count": 52,
   "metadata": {
    "colab": {
     "base_uri": "https://localhost:8080/"
    },
    "id": "RLbUE76_PgBu",
    "outputId": "0db637cd-98a6-4e19-cb94-82a862105b41"
   },
   "outputs": [
    {
     "name": "stdout",
     "output_type": "stream",
     "text": [
      "[[1 2 3 4]\n",
      " [5 6 7 8]]\n",
      "[1 2 3 4 5 6 7 8]\n"
     ]
    }
   ],
   "source": [
    "arr = np.array([[1, 2, 3, 4], [5, 6, 7, 8]])\n",
    "print(arr)\n",
    "print(arr.flatten())"
   ]
  },
  {
   "cell_type": "markdown",
   "metadata": {
    "id": "X-08XaFSzGo4"
   },
   "source": [
    "# Операции с массивами"
   ]
  },
  {
   "cell_type": "markdown",
   "metadata": {
    "id": "5CRyuSOlQoQe"
   },
   "source": [
    "Мало смысла в создании массивов без возможности сделать с ними что-либо. "
   ]
  },
  {
   "cell_type": "code",
   "execution_count": 53,
   "metadata": {
    "id": "D4koFxcK1PyA"
   },
   "outputs": [],
   "source": [
    "x = np.array([[1,2],[3,4]], dtype=np.float64)\n",
    "y = np.array([[5,6],[7,8]], dtype=np.float64)"
   ]
  },
  {
   "cell_type": "code",
   "execution_count": 54,
   "metadata": {
    "colab": {
     "base_uri": "https://localhost:8080/"
    },
    "id": "q2TffF7Q2jCt",
    "outputId": "0a48e2ca-0220-413a-c78c-9f7ebd1dce75"
   },
   "outputs": [
    {
     "name": "stdout",
     "output_type": "stream",
     "text": [
      "[[ 6.  8.]\n",
      " [10. 12.]]\n",
      "[[ 6.  8.]\n",
      " [10. 12.]]\n"
     ]
    }
   ],
   "source": [
    "# Сложение\n",
    "print(x + y)\n",
    "print(np.add(x, y))"
   ]
  },
  {
   "cell_type": "code",
   "execution_count": 55,
   "metadata": {
    "colab": {
     "base_uri": "https://localhost:8080/"
    },
    "id": "SBVvWTwx2uEz",
    "outputId": "2af13229-6f14-4c76-bc41-907239b53447"
   },
   "outputs": [
    {
     "name": "stdout",
     "output_type": "stream",
     "text": [
      "[[-4. -4.]\n",
      " [-4. -4.]]\n",
      "[[-4. -4.]\n",
      " [-4. -4.]]\n"
     ]
    }
   ],
   "source": [
    "# Вычитание\n",
    "print(x - y)\n",
    "print(np.subtract(x, y))"
   ]
  },
  {
   "cell_type": "code",
   "execution_count": 56,
   "metadata": {
    "colab": {
     "base_uri": "https://localhost:8080/"
    },
    "id": "aOAqrdb33IRV",
    "outputId": "32ebe8ac-5d85-4df1-cabf-e83c4e23a563"
   },
   "outputs": [
    {
     "name": "stdout",
     "output_type": "stream",
     "text": [
      "[[ 5. 12.]\n",
      " [21. 32.]]\n",
      "[[ 5. 12.]\n",
      " [21. 32.]]\n"
     ]
    }
   ],
   "source": [
    "# Поэлементное умножение\n",
    "print(x * y)\n",
    "print(np.multiply(x, y))"
   ]
  },
  {
   "cell_type": "code",
   "execution_count": 57,
   "metadata": {
    "colab": {
     "base_uri": "https://localhost:8080/"
    },
    "id": "fTbMbYoo3MlX",
    "outputId": "5b4ef60b-6e1d-4210-da56-7164544e1d8b"
   },
   "outputs": [
    {
     "name": "stdout",
     "output_type": "stream",
     "text": [
      "[[0.2        0.33333333]\n",
      " [0.42857143 0.5       ]]\n",
      "[[0.2        0.33333333]\n",
      " [0.42857143 0.5       ]]\n"
     ]
    }
   ],
   "source": [
    "# Поэлементное деление\n",
    "print(x / y)\n",
    "print(np.divide(x, y))"
   ]
  },
  {
   "cell_type": "code",
   "execution_count": 58,
   "metadata": {
    "colab": {
     "base_uri": "https://localhost:8080/"
    },
    "id": "Ke48RJZz3QFN",
    "outputId": "7fb24e9f-a109-450f-8f32-f74d23af847b"
   },
   "outputs": [
    {
     "name": "stdout",
     "output_type": "stream",
     "text": [
      "[[1.         1.41421356]\n",
      " [1.73205081 2.        ]]\n"
     ]
    }
   ],
   "source": [
    "# Вычисление корня каждого элемента\n",
    "print(np.sqrt(x))"
   ]
  },
  {
   "cell_type": "markdown",
   "metadata": {
    "id": "xk83DBbX4GTX"
   },
   "source": [
    "Отлично, мы рассмотрели основные операции над массивами. Операции поэлементные, результаты такие же по размеру, как и операнды. Помимо рассмотренных существуют и множество других, например, экспонента, логарифм и т.д.\n",
    "\n",
    "Помимо поэлементных операций, которые не составляют сложностей в представлении, существует операция матричного умножения. В данном случае мы имеем варианты перемножения матриц, векторов и скаляров."
   ]
  },
  {
   "cell_type": "code",
   "execution_count": 59,
   "metadata": {
    "colab": {
     "base_uri": "https://localhost:8080/"
    },
    "id": "XTQGfz575qFK",
    "outputId": "0de7627d-ec1f-4fd2-8e2a-af025a9101b1"
   },
   "outputs": [
    {
     "name": "stdout",
     "output_type": "stream",
     "text": [
      "[[1.5 3. ]\n",
      " [4.5 6. ]]\n"
     ]
    }
   ],
   "source": [
    "# Умножение матрицы на скаляр - релизуется как поэлементное перемножение \n",
    "k = 1.5\n",
    "\n",
    "print(k*x)"
   ]
  },
  {
   "cell_type": "code",
   "execution_count": 60,
   "metadata": {
    "id": "N5xOhY-e6BtE"
   },
   "outputs": [],
   "source": [
    "v = np.array([1, 2])"
   ]
  },
  {
   "cell_type": "code",
   "execution_count": 61,
   "metadata": {
    "colab": {
     "base_uri": "https://localhost:8080/"
    },
    "id": "KyTncnjz6FPm",
    "outputId": "14a10a55-a810-496a-c9d6-3964e6a8f656"
   },
   "outputs": [
    {
     "name": "stdout",
     "output_type": "stream",
     "text": [
      "[ 5. 11.]\n",
      "[ 5. 11.]\n",
      "[ 5. 11.]\n"
     ]
    }
   ],
   "source": [
    "# Матричное умножение реализуется через оператор @ или функцию np.dot() \n",
    "#   или метод ndarray.dot()\n",
    "# Для умножения матрица-вектор\n",
    "\n",
    "print(x @ v)\n",
    "print(x.dot(v))\n",
    "print(np.dot(x, v))"
   ]
  },
  {
   "cell_type": "code",
   "execution_count": 62,
   "metadata": {
    "colab": {
     "base_uri": "https://localhost:8080/"
    },
    "id": "08UQZ9Ks63FH",
    "outputId": "f6ec5fb3-cbad-4fe6-9b57-965c8db8b033"
   },
   "outputs": [
    {
     "name": "stdout",
     "output_type": "stream",
     "text": [
      "11\n",
      "11\n",
      "11\n"
     ]
    }
   ],
   "source": [
    "# Двух векторов\n",
    "w = np.array([3, 4])\n",
    "\n",
    "print(w @ v)\n",
    "print(w.dot(v))\n",
    "print(np.dot(w, v))"
   ]
  },
  {
   "cell_type": "code",
   "execution_count": 63,
   "metadata": {
    "colab": {
     "base_uri": "https://localhost:8080/"
    },
    "id": "Fmd4HaZP6paa",
    "outputId": "8ea35592-274c-4cdc-a42c-56092c4b529f"
   },
   "outputs": [
    {
     "name": "stdout",
     "output_type": "stream",
     "text": [
      "[[19. 22.]\n",
      " [43. 50.]]\n",
      "[[19. 22.]\n",
      " [43. 50.]]\n",
      "[[19. 22.]\n",
      " [43. 50.]]\n"
     ]
    }
   ],
   "source": [
    "# Так и для перемножения матриц\n",
    "print(x @ y)\n",
    "print(x.dot(y))\n",
    "print(np.dot(x, y))"
   ]
  },
  {
   "cell_type": "markdown",
   "metadata": {
    "id": "BXjO0pdq7EVL"
   },
   "source": [
    "Правила умножения матриц и векторов здесь идентичны математическим, то есть соседние размерности должны соотноситься: $(m, n)*(n, k)=(m, k)$.\n",
    "\n",
    "Прекрасно! Раз мы разобрались с тем, как делать базовые операции, то осталось лишь последняя базовая операция - транспонирование."
   ]
  },
  {
   "cell_type": "code",
   "execution_count": 64,
   "metadata": {
    "colab": {
     "base_uri": "https://localhost:8080/"
    },
    "id": "wtkDK4UU76Pp",
    "outputId": "b041bd6f-05ed-4c62-b34f-d4c5b84301c0"
   },
   "outputs": [
    {
     "name": "stdout",
     "output_type": "stream",
     "text": [
      "[[1 2 3]\n",
      " [4 5 6]]\n",
      "(2, 3)\n",
      "--------\n",
      "[[1 4]\n",
      " [2 5]\n",
      " [3 6]]\n",
      "[[1 4]\n",
      " [2 5]\n",
      " [3 6]]\n",
      "(3, 2)\n"
     ]
    }
   ],
   "source": [
    "# Для транспонирования можно воспользоваться атрибутом ndarray.T\n",
    "#   или функцией np.transpose()\n",
    "x = np.array([[1, 2, 3], [4, 5, 6]])\n",
    "print(x)\n",
    "print(x.shape)\n",
    "print('--------')\n",
    "print(np.transpose(x))\n",
    "print(x.T)\n",
    "print(x.T.shape)"
   ]
  },
  {
   "cell_type": "markdown",
   "metadata": {
    "id": "foJSgM3-9Ktj"
   },
   "source": [
    "# Операции по осям"
   ]
  },
  {
   "cell_type": "markdown",
   "metadata": {
    "id": "Zu26o_Jq8ko-"
   },
   "source": [
    "Если ранее операции позволяли модифицировать массив и получать новые массивы с помощью базовых операций, то сейчас мы рассмотрим более \"аггрегуирующие\" операции, например, получение среднего значения, суммы и т.д.\n",
    "\n",
    "При разборе обратим внимание на один важный аргумент в операциях `axis`."
   ]
  },
  {
   "cell_type": "code",
   "execution_count": 65,
   "metadata": {
    "colab": {
     "base_uri": "https://localhost:8080/"
    },
    "id": "CNvo0bMH8Hw4",
    "outputId": "c7681f38-dbac-48a0-a142-a3196c7c169d"
   },
   "outputs": [
    {
     "name": "stdout",
     "output_type": "stream",
     "text": [
      "[[1 2 3]\n",
      " [5 4 3]]\n"
     ]
    }
   ],
   "source": [
    "x = np.array([[1, 2, 3], [5, 4, 3]])\n",
    "print(x)"
   ]
  },
  {
   "cell_type": "code",
   "execution_count": 66,
   "metadata": {
    "colab": {
     "base_uri": "https://localhost:8080/"
    },
    "id": "VmORpW679pGA",
    "outputId": "bdc45456-0ffd-46de-9d66-7c42a4d672d2"
   },
   "outputs": [
    {
     "name": "stdout",
     "output_type": "stream",
     "text": [
      "3.0\n",
      "3.0\n"
     ]
    }
   ],
   "source": [
    "# Возьмем среднее значение всего массива\n",
    "print(np.mean(x))\n",
    "print(np.mean(x, axis=None))"
   ]
  },
  {
   "cell_type": "code",
   "execution_count": 67,
   "metadata": {
    "colab": {
     "base_uri": "https://localhost:8080/"
    },
    "id": "AAbohlvH94YY",
    "outputId": "155a46b9-c30c-4e68-a593-736ba801dcdc"
   },
   "outputs": [
    {
     "name": "stdout",
     "output_type": "stream",
     "text": [
      "18\n",
      "18\n"
     ]
    }
   ],
   "source": [
    "# Получим сумму значений всего массива\n",
    "print(np.sum(x))\n",
    "print(np.sum(x, axis=None))"
   ]
  },
  {
   "cell_type": "markdown",
   "metadata": {
    "id": "3SD2e0--9_sl"
   },
   "source": [
    "Отлично, работает как надо, но зачем этот аргумент `axis`? Все очень просто, он управляет тем, по какой оси (размерности) делается операция. Нужно это, чтобы получить, например, среднее по каждому столбцу или строке."
   ]
  },
  {
   "cell_type": "code",
   "execution_count": 68,
   "metadata": {
    "colab": {
     "base_uri": "https://localhost:8080/"
    },
    "id": "TwyP8qED-ROD",
    "outputId": "fbebe198-355d-4914-ef90-e14b652e891c"
   },
   "outputs": [
    {
     "name": "stdout",
     "output_type": "stream",
     "text": [
      "[3. 3. 3.]\n",
      "[2. 4.]\n"
     ]
    }
   ],
   "source": [
    "# Получим среднее по каждому столбцу\n",
    "print(np.mean(x, axis=0))\n",
    "\n",
    "# Получим среднее по каждой строке\n",
    "print(np.mean(x, axis=1))"
   ]
  },
  {
   "cell_type": "markdown",
   "metadata": {
    "id": "Cvne71NE_RJB"
   },
   "source": [
    "Так как же это воспринимать? Помните индексацию слайсами (диапазонами)? Чтобы получить весь второй столбец, мы пишем $[:, 2]$, что означает \"все строки стобца под индексом 2\". Так и тут, если мы хотим, чтобы операция выполнилась по всем строкам (например для результата по столбцам), то пишем `axis=0`. Если хотим, чтобы операция проходила по колонкам (для каждой строки), то пишем `axis=1`. То есть, в `axis` задается тот индекс, вдоль которого выполняется операция.\n",
    "\n",
    "Можно подходить к вопросу более формально. Например, мы имеем матрицу размера $(10, 13)$. При указании `axis=0` мы получим результат вычисления операции по каждому столбцу или массив размером $(13, )$. Через аргумент `axis` мы указываем размерность, которую схлопнем до единицы. Для случая многомерных массивов, например с размером $(8, 3, 40, 20)$, указывая `axis=1`, мы получаем результат с размером $(8, 40, 20)$.\n",
    "\n",
    "> Такие возможности задания осей хороши тем, что не нужно писать циклы прохода по всем строкам, чтобы получить результат - это делает код более читаемым и производительным."
   ]
  },
  {
   "cell_type": "markdown",
   "metadata": {
    "id": "pzurzVvuBCgi"
   },
   "source": [
    "## Задание\n",
    "\n",
    "Напишите операцию получения суммы элементов по всем стобцам:"
   ]
  },
  {
   "cell_type": "code",
   "execution_count": 69,
   "metadata": {
    "colab": {
     "base_uri": "https://localhost:8080/"
    },
    "id": "ut4bOSdcBP0v",
    "outputId": "69f94722-ff36-406c-e3c0-7ad1c636edf3"
   },
   "outputs": [
    {
     "name": "stdout",
     "output_type": "stream",
     "text": [
      "[[2 3 4 2 4 4]\n",
      " [1 4 3 4 2 2]\n",
      " [1 3 1 3 1 4]]\n",
      "[ 4 10  8  9  7 10]\n"
     ]
    }
   ],
   "source": [
    "data = np.random.randint(low=0, high=5, size=(3, 6))\n",
    "print(data)\n",
    "print(np.sum(data, axis=0))"
   ]
  },
  {
   "cell_type": "markdown",
   "metadata": {
    "id": "bcgRRkseBqzq"
   },
   "source": [
    "# Broadcasting (трансляция)"
   ]
  },
  {
   "cell_type": "markdown",
   "metadata": {
    "id": "fgwB6980BuZ0"
   },
   "source": [
    "Тема достаточно \"широкая\" =)\n",
    "На деле механизм броадкастинга очень полезен и его понимание является одним из мощных инструментов библиотеки numpy.\n",
    "\n",
    "Зачем он нужен? Допустим, мы имеет вектор $(4,)$, матрицу $(3, 4)$ и хотим умножить этот вектор на каждую строку матрицы. Самый простой способ - пройти в цикле по строкам:"
   ]
  },
  {
   "cell_type": "code",
   "execution_count": 70,
   "metadata": {
    "colab": {
     "base_uri": "https://localhost:8080/"
    },
    "id": "PXEeaAmqHqp8",
    "outputId": "224214b4-d614-4a63-acf3-7d3932ab5a6c"
   },
   "outputs": [
    {
     "name": "stdout",
     "output_type": "stream",
     "text": [
      "[0 1 2 3]\n",
      "[[1. 1. 1. 1.]\n",
      " [1. 1. 1. 1.]\n",
      " [1. 1. 1. 1.]]\n"
     ]
    }
   ],
   "source": [
    "vec = np.arange(4)\n",
    "mtrx = np.ones((3, 4))\n",
    "print(vec)\n",
    "print(mtrx)"
   ]
  },
  {
   "cell_type": "code",
   "execution_count": 71,
   "metadata": {
    "colab": {
     "base_uri": "https://localhost:8080/"
    },
    "id": "8xH_CXJoHrkr",
    "outputId": "d44e4ac0-04bb-4505-8695-2b5626b70634"
   },
   "outputs": [
    {
     "name": "stdout",
     "output_type": "stream",
     "text": [
      "[[0. 1. 2. 3.]\n",
      " [0. 1. 2. 3.]\n",
      " [0. 1. 2. 3.]]\n"
     ]
    }
   ],
   "source": [
    "result = np.empty_like(mtrx)\n",
    "\n",
    "for i_row in range(mtrx.shape[0]):\n",
    "    result[i_row,:] = mtrx[i_row,:] * vec\n",
    "\n",
    "print(result)"
   ]
  },
  {
   "cell_type": "markdown",
   "metadata": {
    "id": "UVbNFmqkIHL_"
   },
   "source": [
    "С другой стороны, можно склонировать вектор по размеру матрицы, чтобы затем просто перемножить поэлементно две матрицы."
   ]
  },
  {
   "cell_type": "code",
   "execution_count": 72,
   "metadata": {
    "colab": {
     "base_uri": "https://localhost:8080/"
    },
    "id": "P2aJ71qMIJIN",
    "outputId": "3c86ded5-42f3-4fc5-f78d-23402221ec50"
   },
   "outputs": [
    {
     "name": "stdout",
     "output_type": "stream",
     "text": [
      "[[0 1 2 3]\n",
      " [0 1 2 3]\n",
      " [0 1 2 3]]\n",
      "[[0. 1. 2. 3.]\n",
      " [0. 1. 2. 3.]\n",
      " [0. 1. 2. 3.]]\n"
     ]
    }
   ],
   "source": [
    "# Функция np.tile() повторяет массив то количество раз и по тем осям,\n",
    "#   которые заданы в аргументе reps\n",
    "vec_m = np.tile(vec, reps=(3, 1))\n",
    "print(vec_m)\n",
    "print(vec_m * mtrx)"
   ]
  },
  {
   "cell_type": "markdown",
   "metadata": {
    "id": "YIAATyxQHp6y"
   },
   "source": [
    "А можно вспомнить про броадкастинг и просто умножить вектор на матрицу:"
   ]
  },
  {
   "cell_type": "code",
   "execution_count": 73,
   "metadata": {
    "colab": {
     "base_uri": "https://localhost:8080/"
    },
    "id": "cvhGzlKyGPkk",
    "outputId": "a9c27739-9200-4c33-92b8-6d4fb1d6a271"
   },
   "outputs": [
    {
     "name": "stdout",
     "output_type": "stream",
     "text": [
      "[[0. 1. 2. 3.]\n",
      " [0. 1. 2. 3.]\n",
      " [0. 1. 2. 3.]]\n"
     ]
    }
   ],
   "source": [
    "# Умножение, используя броадкастинг\n",
    "print(vec * mtrx)"
   ]
  },
  {
   "cell_type": "markdown",
   "metadata": {
    "id": "m45myVWXInxI"
   },
   "source": [
    "Таким образом, броадкастинг - это механизм распространения элементов операций по разметностям, по которым количество элементов не соотносится с другим операндом. В последней ячейке вектор был продублирован на каждую строку так, что размерности соотносятся.\n",
    "\n",
    "> Обязательно прочитайте примеры броадкастинга в [статье](https://numpy.org/doc/stable/user/basics.broadcasting.html).\n",
    "\n",
    "Броадкастинг также работает и при умножении скаляра на массив:"
   ]
  },
  {
   "cell_type": "code",
   "execution_count": 74,
   "metadata": {
    "colab": {
     "base_uri": "https://localhost:8080/"
    },
    "id": "vyolr9OlHRx0",
    "outputId": "b9a92c7e-7c79-4a20-98d8-720707537861"
   },
   "outputs": [
    {
     "name": "stdout",
     "output_type": "stream",
     "text": [
      "[[2. 2. 2. 2.]\n",
      " [2. 2. 2. 2.]\n",
      " [2. 2. 2. 2.]]\n"
     ]
    }
   ],
   "source": [
    "print(2 * mtrx)"
   ]
  },
  {
   "cell_type": "markdown",
   "metadata": {
    "id": "b5C9CLXvLy_X"
   },
   "source": [
    "Чтобы больше понять правила броадкастинга, посмотрим на результаты операций 3D матриц:"
   ]
  },
  {
   "cell_type": "code",
   "execution_count": 75,
   "metadata": {
    "colab": {
     "base_uri": "https://localhost:8080/"
    },
    "id": "p5gNIS1QLmTq",
    "outputId": "a66d203a-a683-4af0-a0b8-5ea1fdc959cf"
   },
   "outputs": [
    {
     "name": "stdout",
     "output_type": "stream",
     "text": [
      "(4, 3, 2)\n"
     ]
    }
   ],
   "source": [
    "x = np.ones((4, 1, 1))\n",
    "y = np.random.randint(0, 5, size=(4, 3, 2))\n",
    "\n",
    "print((x*y).shape)"
   ]
  },
  {
   "cell_type": "code",
   "execution_count": 76,
   "metadata": {
    "colab": {
     "base_uri": "https://localhost:8080/"
    },
    "id": "sXzWWxHnMS8E",
    "outputId": "da95c897-fd2d-49ca-b89c-5eedaeff4087"
   },
   "outputs": [
    {
     "name": "stdout",
     "output_type": "stream",
     "text": [
      "(4, 3, 2)\n"
     ]
    }
   ],
   "source": [
    "x = np.ones((3, 1))\n",
    "y = np.random.randint(0, 5, size=(4, 3, 2))\n",
    "\n",
    "print((x*y).shape)"
   ]
  },
  {
   "cell_type": "code",
   "execution_count": 77,
   "metadata": {
    "colab": {
     "base_uri": "https://localhost:8080/"
    },
    "id": "gCclW4LGMYUA",
    "outputId": "d3966638-8c15-41cf-f748-29acfdcf34b3"
   },
   "outputs": [
    {
     "name": "stdout",
     "output_type": "stream",
     "text": [
      "(5, 3, 2)\n"
     ]
    }
   ],
   "source": [
    "x = np.ones((1, 3, 2))\n",
    "y = np.random.randint(0, 5, size=(5, 1, 2))\n",
    "\n",
    "print((x*y).shape)"
   ]
  },
  {
   "cell_type": "markdown",
   "metadata": {
    "id": "V5BvOyFOMdyr"
   },
   "source": [
    "В последних примерах можно увидеть, что размерности должны быть соотносимы (количества размерностей равны). В случае неравенства количества размерностей новые размерности со значением 1 добавляются слева ($(3, 1) \\rightarrow (1, 3, 1)$ в одном из примеров).\n",
    "\n",
    "> Добавление размерности было и в случае умножения вектора на матрицу: $(4,)*(3, 4) \\rightarrow (1, 4)*(3, 4)$\n",
    "\n",
    "Броадкастинг делается по тем осям, которые у одного операнда имеют размерность 1 путем копирования.\n",
    "\n",
    "> В нашем случае $(1, 4)*(3, 4) \\rightarrow (3, 4)*(3, 4)$"
   ]
  },
  {
   "cell_type": "markdown",
   "metadata": {
    "id": "7TwQwQt6OEA_"
   },
   "source": [
    "Осознать броадкастинг сразу не совсем просто, но главное не забывать, что такой инструмент есть и им нужно пользоваться во избежание лишнего кода."
   ]
  },
  {
   "cell_type": "markdown",
   "metadata": {
    "id": "6Aece1s4OM7y"
   },
   "source": [
    "# Изменение размеров массива (Reshape)"
   ]
  },
  {
   "cell_type": "markdown",
   "metadata": {
    "id": "AjcQO4NSOQtv"
   },
   "source": [
    "Еще одна интересная тема, которую стоит рассмотреть. Мы уже касались вопроса приведения массива к выпрямленному виду - это один из видов изменения размерности массива.\n",
    "\n",
    "По сути, размерность массива - это то, как выстроены элементы в нем. Изменение размерности - это изменение структуры **без изменения элементов или порядка**.\n",
    "\n",
    "Рассмотрим на примере:"
   ]
  },
  {
   "cell_type": "code",
   "execution_count": 78,
   "metadata": {
    "colab": {
     "base_uri": "https://localhost:8080/"
    },
    "id": "QaEqZf_aPoSp",
    "outputId": "42ffdf35-2811-4cf2-aaf6-33e5ef99c16f"
   },
   "outputs": [
    {
     "name": "stdout",
     "output_type": "stream",
     "text": [
      "[ 0  1  2  3  4  5  6  7  8  9 10 11 12 13 14 15 16 17 18 19]\n"
     ]
    }
   ],
   "source": [
    "arr = np.arange(20)\n",
    "print(arr)"
   ]
  },
  {
   "cell_type": "markdown",
   "metadata": {
    "id": "y6rx0qLXPtKD"
   },
   "source": [
    "Вот мы имеем вектор из 20 элементов в порядке возрастания. Теперь, допустим, нам нужно сделать массив размером $(4, 5)$, в котором каждый ряд - это продолжение предыдущего по возрастанию чисел. Для начала сделаем руками: "
   ]
  },
  {
   "cell_type": "code",
   "execution_count": 79,
   "metadata": {
    "id": "Kx9kBRe2QBR-"
   },
   "outputs": [
    {
     "name": "stdout",
     "output_type": "stream",
     "text": [
      "[[ 0  1  2  3  4]\n",
      " [ 5  6  7  8  9]\n",
      " [10 11 12 13 14]\n",
      " [15 16 17 18 19]]\n"
     ]
    }
   ],
   "source": [
    "mtrx = np.ndarray((4, 5), dtype=np.int32)\n",
    "mtrx[0, :] = arr[:5]\n",
    "mtrx[1, :] = arr[5:10]\n",
    "mtrx[2, :] = arr[10:15]\n",
    "mtrx[3, :] = arr[15:]\n",
    "\n",
    "print(mtrx)"
   ]
  },
  {
   "cell_type": "markdown",
   "metadata": {
    "id": "UPyGvrtWdPm-"
   },
   "source": [
    "Получилось как надо, но есть два недостатка:\n",
    "- Если элементов будет больше и нужен будет другой размер - код не универсален;\n",
    "- Приходится расставлять данные вручную.\n",
    "\n",
    "Теперь взглянем, как работает метод `ndarray.reshape()`:"
   ]
  },
  {
   "cell_type": "code",
   "execution_count": 80,
   "metadata": {
    "id": "AFpqjOXAdOqD"
   },
   "outputs": [
    {
     "name": "stdout",
     "output_type": "stream",
     "text": [
      "[[ 0  1  2  3  4]\n",
      " [ 5  6  7  8  9]\n",
      " [10 11 12 13 14]\n",
      " [15 16 17 18 19]]\n"
     ]
    }
   ],
   "source": [
    "print(arr.reshape((4, 5)))"
   ]
  },
  {
   "cell_type": "markdown",
   "metadata": {
    "id": "rVRLk09SdrtT"
   },
   "source": [
    "В результате происходит тоже самое. То есть, элементы расположились в порядке размещения по размерностям: начиная с первой строки (нулевая размерность) заполняется по колонкам (первая размерность), а как только заполнение по колонкам закончено - переходим на следующий ряд.\n",
    "\n",
    "Таким образом, в какую бы размерность не происходило изменение размера - расположение будет придерживаться этого правила.\n",
    "\n",
    "Для лучшего понимания посмотрим на другие представления:"
   ]
  },
  {
   "cell_type": "code",
   "execution_count": 81,
   "metadata": {
    "id": "ecjFNZPPebov"
   },
   "outputs": [
    {
     "name": "stdout",
     "output_type": "stream",
     "text": [
      "[[ 0  1  2  3  4  5  6  7  8  9]\n",
      " [10 11 12 13 14 15 16 17 18 19]]\n",
      "[[ 0  1  2  3]\n",
      " [ 4  5  6  7]\n",
      " [ 8  9 10 11]\n",
      " [12 13 14 15]\n",
      " [16 17 18 19]]\n",
      "[[ 0]\n",
      " [ 1]\n",
      " [ 2]\n",
      " [ 3]\n",
      " [ 4]\n",
      " [ 5]\n",
      " [ 6]\n",
      " [ 7]\n",
      " [ 8]\n",
      " [ 9]\n",
      " [10]\n",
      " [11]\n",
      " [12]\n",
      " [13]\n",
      " [14]\n",
      " [15]\n",
      " [16]\n",
      " [17]\n",
      " [18]\n",
      " [19]]\n"
     ]
    }
   ],
   "source": [
    "print(arr.reshape((2, 10)))\n",
    "print(arr.reshape((5, 4)))\n",
    "print(arr.reshape((20, 1)))"
   ]
  },
  {
   "cell_type": "markdown",
   "metadata": {
    "id": "VFh8-iyHeh6d"
   },
   "source": [
    "Таким образом, можно приводить к любой размерности с учетом правила:\n",
    "> Количество элементов должно сохраняться\n",
    "\n",
    "Но бывают ситуации, когда мы точно не знаем количество элементов, но нам нужно точно создать, например, 4 строки в матрице. В этом поможет неопределенная размерность, которая задается числом -1:"
   ]
  },
  {
   "cell_type": "code",
   "execution_count": 82,
   "metadata": {
    "id": "-rioXaAse-Da"
   },
   "outputs": [
    {
     "name": "stdout",
     "output_type": "stream",
     "text": [
      "[[ 0  1  2  3  4]\n",
      " [ 5  6  7  8  9]\n",
      " [10 11 12 13 14]\n",
      " [15 16 17 18 19]]\n"
     ]
    }
   ],
   "source": [
    "print(arr.reshape((4, -1)))"
   ]
  },
  {
   "cell_type": "markdown",
   "metadata": {
    "id": "m4DEV-Q0Pngj"
   },
   "source": [
    "Таким образом можно задать, что матрица должна быть 2D с фиксированным количеством строк, но без фиксации на количество столбцов. Конечно же, если в исходном будет 21 элемент, то такой трюк не сработает, потому что 21 не делится на 4 без остатка."
   ]
  },
  {
   "cell_type": "markdown",
   "metadata": {
    "id": "53NWq6i_fe2W"
   },
   "source": [
    "# Объединение массивов"
   ]
  },
  {
   "cell_type": "markdown",
   "metadata": {
    "id": "EDCNSihEfiVA"
   },
   "source": [
    "При работе с массивами бывают случаи, когда несколько массивов необходимо объединить в один. Для этого поможет функция `np.concatenate()` и понимание ее основных правил."
   ]
  },
  {
   "cell_type": "code",
   "execution_count": 83,
   "metadata": {
    "colab": {
     "base_uri": "https://localhost:8080/"
    },
    "id": "iiVzWooVfw-w",
    "outputId": "63fa1235-df4e-4912-b558-a7f2851cb8e9"
   },
   "outputs": [
    {
     "name": "stdout",
     "output_type": "stream",
     "text": [
      "[[0 1 2 3 4]\n",
      " [5 6 7 8 9]]\n",
      "[[ 0  1  2  3  4]\n",
      " [ 5  6  7  8  9]\n",
      " [10 11 12 13 14]]\n"
     ]
    }
   ],
   "source": [
    "x = np.arange(10).reshape((2, 5))\n",
    "y = np.arange(15).reshape((3, 5))\n",
    "\n",
    "print(x)\n",
    "print(y)"
   ]
  },
  {
   "cell_type": "markdown",
   "metadata": {
    "id": "dpXU_P7TguD_"
   },
   "source": [
    "Для объединения массивов необходимо, чтобы одна из размерностей имела одинаковое количество элементов. Это достаточно логичное требование задается аргументом `axis` в функции:"
   ]
  },
  {
   "cell_type": "code",
   "execution_count": 84,
   "metadata": {
    "colab": {
     "base_uri": "https://localhost:8080/"
    },
    "id": "rX9FSi5Hg62I",
    "outputId": "8fcf436b-0949-41ab-e745-005037421d1a"
   },
   "outputs": [
    {
     "name": "stdout",
     "output_type": "stream",
     "text": [
      "[[ 0  1  2  3  4]\n",
      " [ 5  6  7  8  9]\n",
      " [ 0  1  2  3  4]\n",
      " [ 5  6  7  8  9]\n",
      " [10 11 12 13 14]]\n"
     ]
    }
   ],
   "source": [
    "print(np.concatenate((x, y), axis=0))"
   ]
  },
  {
   "cell_type": "markdown",
   "metadata": {
    "id": "In1g-miAg_vz"
   },
   "source": [
    "Обратите внимание, что массивы передаются в виде кортежа, что позволяет объединять два и более массивов."
   ]
  },
  {
   "cell_type": "markdown",
   "metadata": {
    "id": "9zi8VK2HhHnw"
   },
   "source": [
    "## Задание\n",
    "\n",
    "Объедините три массива вдоль колонок:"
   ]
  },
  {
   "cell_type": "code",
   "execution_count": 85,
   "metadata": {
    "colab": {
     "base_uri": "https://localhost:8080/"
    },
    "id": "WroGVeHYhXYU",
    "outputId": "fcc93c99-440f-4546-d385-8efd7fc507b2"
   },
   "outputs": [
    {
     "name": "stdout",
     "output_type": "stream",
     "text": [
      "[[0 1 2]\n",
      " [3 4 5]\n",
      " [6 7 8]]\n",
      "[[ 0  1  2  3]\n",
      " [ 4  5  6  7]\n",
      " [ 8  9 10 11]]\n",
      "[[ 0  1  2  3  4]\n",
      " [ 5  6  7  8  9]\n",
      " [10 11 12 13 14]]\n",
      "[[ 0  1  2  0  1  2  3  0  1  2  3  4]\n",
      " [ 3  4  5  4  5  6  7  5  6  7  8  9]\n",
      " [ 6  7  8  8  9 10 11 10 11 12 13 14]]\n"
     ]
    }
   ],
   "source": [
    "x = np.arange(9).reshape((3, 3))\n",
    "y = np.arange(12).reshape((3, 4))\n",
    "z = np.arange(15).reshape((3, 5))\n",
    "\n",
    "print(x)\n",
    "print(y)\n",
    "print(z)\n",
    "\n",
    "print(np.concatenate((x,y,z), axis = 1))\n",
    "# [[ 0  1  2  0  1  2  3  0  1  2  3  4]\n",
    "#  [ 3  4  5  4  5  6  7  5  6  7  8  9]\n",
    "#  [ 6  7  8  8  9 10 11 10 11 12 13 14]]"
   ]
  },
  {
   "cell_type": "markdown",
   "metadata": {
    "id": "g1vMT1PZSpSs"
   },
   "source": [
    "## Задание\n",
    "\n",
    "Напишите реализацию добавления стобца единиц к матрице слева:"
   ]
  },
  {
   "cell_type": "code",
   "execution_count": 86,
   "metadata": {
    "colab": {
     "base_uri": "https://localhost:8080/"
    },
    "id": "uKMSNM0ySyQ2",
    "outputId": "13381e35-08e5-4aa2-d1d0-4712c5733e38"
   },
   "outputs": [
    {
     "name": "stdout",
     "output_type": "stream",
     "text": [
      "[[1 2 3]\n",
      " [4 5 6]\n",
      " [7 8 9]]\n",
      "[[1.]\n",
      " [1.]\n",
      " [1.]]\n",
      "[[1. 1. 2. 3.]\n",
      " [1. 4. 5. 6.]\n",
      " [1. 7. 8. 9.]]\n"
     ]
    }
   ],
   "source": [
    "x = np.arange(1, 10).reshape((3, 3))\n",
    "print(x)\n",
    "\n",
    "\n",
    "x1 = np.ones((x.shape[0], 1))\n",
    "print(x1)\n",
    "x2 = np.concatenate((x1,x), axis = 1)\n",
    "print(x2)\n",
    "# [[1 1 2 3]\n",
    "#  [1 4 5 6]\n",
    "#  [1 7 8 9]]"
   ]
  },
  {
   "cell_type": "markdown",
   "metadata": {
    "id": "Ylb4mK18hxpf"
   },
   "source": [
    "# Сортировка массива"
   ]
  },
  {
   "cell_type": "markdown",
   "metadata": {
    "id": "pLIYlEd0h2fp"
   },
   "source": [
    "Numpy как серьезная библиотека работы с массивами имеет также и функционал сортировки. Для этого есть функция `np.sort()`, которая производит сортировку элементов и возвращает отсортированный массив:"
   ]
  },
  {
   "cell_type": "code",
   "execution_count": 87,
   "metadata": {
    "colab": {
     "base_uri": "https://localhost:8080/"
    },
    "id": "qeoYgI9Eilc6",
    "outputId": "e9474bec-4ab0-4a78-cd45-bd80e45a39f2"
   },
   "outputs": [
    {
     "name": "stdout",
     "output_type": "stream",
     "text": [
      "[ 2  4  5  1  2  7  5  0 -1  3  5]\n",
      "[-1  0  1  2  2  3  4  5  5  5  7]\n"
     ]
    }
   ],
   "source": [
    "unsorted_arr = np.array([2, 4, 5, 1, 2, 7, 5, 0, -1, 3, 5])\n",
    "sorted_arr = np.sort(unsorted_arr)\n",
    "\n",
    "print(unsorted_arr)\n",
    "print(sorted_arr)"
   ]
  },
  {
   "cell_type": "markdown",
   "metadata": {
    "id": "Bnck_27Bi0id"
   },
   "source": [
    "Помимо явной сортировки существует также функция `np.argsort()`, которая возвращает не отсортированный массив, а массив индексов исходного массива в порядке, который дает отсортированный исходный. Посмотрим:"
   ]
  },
  {
   "cell_type": "code",
   "execution_count": 88,
   "metadata": {
    "colab": {
     "base_uri": "https://localhost:8080/"
    },
    "id": "NPkO5wIkjvoN",
    "outputId": "dba2a4b4-9c96-44b5-f1bf-1cddd5ef9473"
   },
   "outputs": [
    {
     "name": "stdout",
     "output_type": "stream",
     "text": [
      "[ 8  7  3  0  4  9  1  2  6 10  5]\n",
      "[-1  0  1  2  2  3  4  5  5  5  7]\n"
     ]
    }
   ],
   "source": [
    "sorted_indices = np.argsort(unsorted_arr)\n",
    "print(sorted_indices)\n",
    "\n",
    "# А теперь воспользуемся индексами и отобразим исходный массив с индексацией\n",
    "print(unsorted_arr[sorted_indices])"
   ]
  },
  {
   "cell_type": "markdown",
   "metadata": {
    "id": "unm24O5ukBIN"
   },
   "source": [
    "## Задание\n",
    "\n",
    "По такому же принципу именования найдите функцию, которая возвращает индекс максимального/минимального (в завимости от варианта) элемента в массиве.\n",
    "\n",
    "Воспользуйтесь найденной функцией и найдите индексы максимальных элементов в каждом столбце 2D матрицы: "
   ]
  },
  {
   "cell_type": "code",
   "execution_count": 89,
   "metadata": {
    "colab": {
     "base_uri": "https://localhost:8080/"
    },
    "id": "V8mS3lbMkzha",
    "outputId": "d07ff9e3-2894-4019-b22f-f18f5bec7dfa"
   },
   "outputs": [
    {
     "name": "stdout",
     "output_type": "stream",
     "text": [
      "[[11 -1  1  3  5]\n",
      " [ 6  1  0 -1 10]\n",
      " [ 1  3  2  3  6]\n",
      " [ 5  2  7  8  9]]\n",
      "поиск индекса минимального: [2 0 1 1 0]\n",
      "поиск индекса максимального: [0 2 3 3 1]\n"
     ]
    }
   ],
   "source": [
    "arr = np.array([\n",
    "    [11, -1, 1, 3, 5],\n",
    "    [6, 1, 0, -1, 10],\n",
    "    [1, 3, 2, 3, 6],\n",
    "    [5, 2, 7, 8, 9],\n",
    "])\n",
    "\n",
    "print(arr)\n",
    "\n",
    "def bjdx(a):\n",
    " np.argsort(arr, axis = 0)\n",
    " print(f'поиск индекса минимального: {np.argsort(arr, axis = 0)[0]}')\n",
    " print(f'поиск индекса максимального: {np.argsort(arr, axis = 0)[-1]}')\n",
    "\n",
    "bjdx(arr)\n",
    "\n",
    "# TODO - напишите код поиска индексов максимальных/минимальных \n",
    "#           элементов в массиве по столбцам: [0 2 3 3 1]/[2 0 1 1 0]"
   ]
  },
  {
   "cell_type": "markdown",
   "metadata": {
    "id": "B-BhMwTynb1c"
   },
   "source": [
    "## Задание\n",
    "\n",
    "Напишите код сортировки массива по столбцам:"
   ]
  },
  {
   "cell_type": "code",
   "execution_count": 90,
   "metadata": {
    "colab": {
     "base_uri": "https://localhost:8080/"
    },
    "id": "XeyGvnv9nha8",
    "outputId": "2a87e7a5-16de-477e-80f0-fafbec0ca391"
   },
   "outputs": [
    {
     "name": "stdout",
     "output_type": "stream",
     "text": [
      "[[11  2  1  3  5]\n",
      " [ 6  2  0 -1 10]\n",
      " [ 1  3  2  3  5]\n",
      " [ 5  2  7  8  9]]\n",
      "[[ 1  2  0 -1  5]\n",
      " [ 5  2  1  3  5]\n",
      " [ 6  2  2  3  9]\n",
      " [11  3  7  8 10]]\n"
     ]
    }
   ],
   "source": [
    "arr = np.array([\n",
    "    [11, 2, 1, 3, 5],\n",
    "    [6, 2, 0, -1, 10],\n",
    "    [1, 3, 2, 3, 5],\n",
    "    [5, 2, 7, 8, 9],\n",
    "])\n",
    "print(arr)\n",
    "\n",
    "print(np.sort(arr, axis = 0))\n",
    "\n",
    "# [[ 1  2  0 -1  5]\n",
    "#  [ 5  2  1  3  5]\n",
    "#  [ 6  2  2  3  9]\n",
    "#  [11  3  7  8 10]]"
   ]
  },
  {
   "cell_type": "markdown",
   "metadata": {
    "id": "Q7HnQ1sydJy9"
   },
   "source": [
    "# Задачки"
   ]
  },
  {
   "cell_type": "markdown",
   "metadata": {
    "id": "G9GZ6RxEFl4R"
   },
   "source": [
    "Создайте массив, состоящий из случайных элементов в диапазоне $[-10; 20]$ размером $(5, 7)$:"
   ]
  },
  {
   "cell_type": "code",
   "execution_count": 91,
   "metadata": {
    "colab": {
     "base_uri": "https://localhost:8080/"
    },
    "id": "nm7ygwgfF-2M",
    "outputId": "a72434d3-6c5f-49aa-9c00-423cb2d455ea"
   },
   "outputs": [
    {
     "data": {
      "text/plain": [
       "array([[  8,  13,  -7,  -1, -10,  19,  19],\n",
       "       [ -6,  14,  -6,   4,  10,  -5,   1],\n",
       "       [  5,  19,   1,   3,  13,   4,   9],\n",
       "       [ 17,  17,  -5,  10,  -4,  -7,   5],\n",
       "       [ 10,   9,   2,  -6,  16,   4,  11]])"
      ]
     },
     "execution_count": 91,
     "metadata": {},
     "output_type": "execute_result"
    }
   ],
   "source": [
    "np.random.randint(-10, 20, size = (5, 7))"
   ]
  },
  {
   "cell_type": "markdown",
   "metadata": {
    "id": "N7RHO3OQmZAv"
   },
   "source": [
    "Добавьте границу в виде нулей со всех сторон 2D массива:"
   ]
  },
  {
   "cell_type": "code",
   "execution_count": 92,
   "metadata": {
    "colab": {
     "base_uri": "https://localhost:8080/"
    },
    "id": "3Eg9jmjLGief",
    "outputId": "03d7d362-a481-4741-cb16-8161be5f2ba2"
   },
   "outputs": [
    {
     "name": "stdout",
     "output_type": "stream",
     "text": [
      "[[ 1  2  3  4  5]\n",
      " [ 6  7  8  9 10]\n",
      " [11 12 13 14 15]]\n",
      "[[ 0.  0.  0.  0.  0.  0.  0.]\n",
      " [ 0.  1.  2.  3.  4.  5.  0.]\n",
      " [ 0.  6.  7.  8.  9. 10.  0.]\n",
      " [ 0. 11. 12. 13. 14. 15.  0.]\n",
      " [ 0.  0.  0.  0.  0.  0.  0.]]\n"
     ]
    }
   ],
   "source": [
    "data = np.arange(1, 16).reshape((3, 5))\n",
    "print(data)\n",
    "\n",
    "lr = np.zeros((data.shape[0], 1))\n",
    "datalr = np.concatenate((lr, data, lr), axis = 1)\n",
    "ud = np.zeros((1, datalr.shape[1]))\n",
    "dataud = np.concatenate((ud, datalr, ud), axis = 0)\n",
    "print(dataud)\n",
    "# [[ 0  0  0  0  0  0  0]\n",
    "#  [ 0  1  2  3  4  5  0]\n",
    "#  [ 0  6  7  8  9 10  0]\n",
    "#  [ 0 11 12 13 14 15  0]\n",
    "#  [ 0  0  0  0  0  0  0]]"
   ]
  },
  {
   "cell_type": "markdown",
   "metadata": {
    "id": "dZd4lWT7-A02"
   },
   "source": [
    "Разберитесь с функцией `np.clip()` и произведите ограничение массива, чтобы в нем значения были не более шести и не менее двух:"
   ]
  },
  {
   "cell_type": "code",
   "execution_count": 93,
   "metadata": {
    "colab": {
     "base_uri": "https://localhost:8080/"
    },
    "id": "ux991dZdmpS4",
    "outputId": "59477a15-41ba-4639-9013-1fc418bab1e9"
   },
   "outputs": [
    {
     "name": "stdout",
     "output_type": "stream",
     "text": [
      "[[ 1  2  3  4  5]\n",
      " [ 6  7  8  9 10]\n",
      " [11 12 13 14 15]]\n",
      "[[2 2 3 4 5]\n",
      " [6 6 6 6 6]\n",
      " [6 6 6 6 6]]\n"
     ]
    }
   ],
   "source": [
    "data = np.arange(1, 16).reshape((3, 5))\n",
    "print(data)\n",
    "\n",
    "np.clip(data, 2, 6, out = data)\n",
    "print(data)\n",
    "# [[2 2 3 4 5]\n",
    "#  [6 6 6 6 6]\n",
    "#  [6 6 6 6 6]]"
   ]
  },
  {
   "cell_type": "markdown",
   "metadata": {
    "id": "GaK2Wjsc-ufd"
   },
   "source": [
    "Произведите модификацию массива так, чтобы значение в колонке результата соответствовало исходному значению, возведенному в степень индекса колонки:"
   ]
  },
  {
   "cell_type": "code",
   "execution_count": 94,
   "metadata": {
    "colab": {
     "base_uri": "https://localhost:8080/"
    },
    "id": "hL1yy-0b-Ned",
    "outputId": "6e78ca1b-010f-42e1-8caf-f820932b60e3"
   },
   "outputs": [
    {
     "name": "stdout",
     "output_type": "stream",
     "text": [
      "[[2 2 2 2 2]\n",
      " [2 2 2 2 2]\n",
      " [2 2 2 2 2]]\n",
      "[[ 1  2  4  8 16]\n",
      " [ 1  2  4  8 16]\n",
      " [ 1  2  4  8 16]]\n"
     ]
    }
   ],
   "source": [
    "data = np.full((3, 5), fill_value=2, dtype=np.int32)\n",
    "print(data)\n",
    "\n",
    "result = data.copy();\n",
    "vec = list(range(data.shape[1]))\n",
    "for i_row in range(data.shape[0]):\n",
    "    result[i_row,:] = pow(data[i_row,:] ,vec)\n",
    "print(result)\n",
    "\n",
    "# [[ 1  2  4  8 16]\n",
    "#  [ 1  2  4  8 16]\n",
    "#  [ 1  2  4  8 16]]"
   ]
  },
  {
   "cell_type": "markdown",
   "metadata": {
    "id": "UvwJTfMQE2Eh"
   },
   "source": [
    "Умножьте каждую колонку на ее индекс:"
   ]
  },
  {
   "cell_type": "code",
   "execution_count": 95,
   "metadata": {
    "colab": {
     "base_uri": "https://localhost:8080/"
    },
    "id": "hV5rEePyE1VH",
    "outputId": "ce91cb76-1540-4103-ea8d-049afdc807f8"
   },
   "outputs": [
    {
     "name": "stdout",
     "output_type": "stream",
     "text": [
      "[[2 2 2 2 2]\n",
      " [2 2 2 2 2]\n",
      " [2 2 2 2 2]]\n",
      "[[0 2 4 6 8]\n",
      " [0 2 4 6 8]\n",
      " [0 2 4 6 8]]\n"
     ]
    }
   ],
   "source": [
    "data = np.full((3, 5), fill_value=2, dtype=np.int32)\n",
    "print(data)\n",
    "\n",
    "result = data.copy();\n",
    "vec = list(range(data.shape[1]))\n",
    "for i_row in range(data.shape[0]):\n",
    "    result[i_row,:] = data[i_row,:] *vec\n",
    "print(result)\n",
    "\n",
    "# [[0 2 4 6 8]\n",
    "#  [0 2 4 6 8]\n",
    "#  [0 2 4 6 8]]"
   ]
  },
  {
   "cell_type": "markdown",
   "metadata": {
    "id": "VzMibei69GMQ"
   },
   "source": [
    "Умножьте каждый четный ряд в матрице на вектор:"
   ]
  },
  {
   "cell_type": "code",
   "execution_count": 96,
   "metadata": {
    "colab": {
     "base_uri": "https://localhost:8080/"
    },
    "id": "BWkmzzWq-O3d",
    "outputId": "61f4972b-87d5-4263-df19-5a7e5ef07667"
   },
   "outputs": [
    {
     "name": "stdout",
     "output_type": "stream",
     "text": [
      "[[1 1 1 1]\n",
      " [2 2 2 2]\n",
      " [3 3 3 3]\n",
      " [4 4 4 4]\n",
      " [5 5 5 5]\n",
      " [6 6 6 6]\n",
      " [7 7 7 7]]\n",
      "[[ 1  2  1  2]\n",
      " [ 2  2  2  2]\n",
      " [ 3  6  3  6]\n",
      " [ 4  4  4  4]\n",
      " [ 5 10  5 10]\n",
      " [ 6  6  6  6]\n",
      " [ 7 14  7 14]]\n"
     ]
    }
   ],
   "source": [
    "data = np.repeat(np.arange(1, 8), 4).reshape(7, 4)\n",
    "vec = np.array([1, 2, 1, 2])\n",
    "print(data)\n",
    "\n",
    "result = data.copy();\n",
    "for i_row in range(0, data.shape[0], 2):\n",
    "    result[i_row,:] = data[i_row,:] *vec\n",
    "print(result)\n",
    "\n",
    "# [[ 1  2  1  2]\n",
    "#  [ 2  2  2  2]\n",
    "#  [ 3  6  3  6]\n",
    "#  [ 4  4  4  4]\n",
    "#  [ 5 10  5 10]\n",
    "#  [ 6  6  6  6]\n",
    "#  [ 7 14  7 14]]"
   ]
  },
  {
   "cell_type": "markdown",
   "metadata": {
    "id": "HkNh2J_BCXgo"
   },
   "source": [
    "Определите индексы двух наибольших элементов в матрице по каждому ряду:"
   ]
  },
  {
   "cell_type": "code",
   "execution_count": 97,
   "metadata": {
    "colab": {
     "base_uri": "https://localhost:8080/"
    },
    "id": "oPta0_FI9phV",
    "outputId": "b5150ca8-6291-4477-9b22-400ac1ddaf89"
   },
   "outputs": [
    {
     "name": "stdout",
     "output_type": "stream",
     "text": [
      "[[20 22  2 14 25  8]\n",
      " [ 7 25 23  3 22 15]\n",
      " [ 8 16  9 22  0  9]\n",
      " [ 4 24 24 28  3 40]]\n",
      "[[4 1]\n",
      " [1 2]\n",
      " [3 1]\n",
      " [5 3]]\n"
     ]
    }
   ],
   "source": [
    "data = np.array([[20, 22,  2, 14, 25,  8],\n",
    "                [ 7, 25, 23,  3, 22, 15],\n",
    "                [ 8, 16,  9, 22,  0,  9],\n",
    "                [ 4, 24, 24, 28,  3, 40]])\n",
    "print(data)\n",
    "\n",
    "fx = np.argsort(-data)\n",
    "print(fx[:,[0,1]])\n",
    "\n",
    "# [[4 1]\n",
    "#  [1 2]\n",
    "#  [3 1]\n",
    "#  [5 3]]"
   ]
  },
  {
   "cell_type": "markdown",
   "metadata": {
    "id": "dHWhvnrxGNbi"
   },
   "source": [
    "Выберите две случайные колонки из массива:\n",
    "\n",
    "<details>\n",
    "<summary>Подсказка 1</summary>\n",
    "\n",
    "Для случайного выбора полезно воспользоваться функцией `np.random.choice()`\n",
    "</details>\n",
    "\n",
    "<details>\n",
    "<summary>Подсказка 2</summary>\n",
    "\n",
    "`np.random.choice()` принимает на вход 1D массив, так что для выбора можно создать массив индексов колонок (`range()` с количеством колонок) и из него функция выберет два случайных индекса\n",
    "</details>"
   ]
  },
  {
   "cell_type": "code",
   "execution_count": 98,
   "metadata": {
    "colab": {
     "base_uri": "https://localhost:8080/"
    },
    "id": "QyOXcEMSGWhJ",
    "outputId": "70f0b5dc-3a96-4443-c526-8486e67e0a42"
   },
   "outputs": [
    {
     "name": "stdout",
     "output_type": "stream",
     "text": [
      "[[20 22  2 14 25  8]\n",
      " [ 7 25 23  3 22 15]\n",
      " [ 8 16  9 22  0  9]\n",
      " [ 4 24 24 28  3 40]]\n",
      "[ 8 15  9 40] [20  7  8  4]\n"
     ]
    }
   ],
   "source": [
    "data = np.array([[20, 22,  2, 14, 25,  8],\n",
    "                [ 7, 25, 23,  3, 22, 15],\n",
    "                [ 8, 16,  9, 22,  0,  9],\n",
    "                [ 4, 24, 24, 28,  3, 40]])\n",
    "print(data)\n",
    "\n",
    "a = list(range(data.shape[1]))\n",
    "a1 = data[:, np.random.choice(a)]\n",
    "a2 = data[:, np.random.choice(a)]\n",
    "print(a1, a2)\n",
    "# *Например,\n",
    "# [[22  8]\n",
    "#  [25 15]\n",
    "#  [16  9]\n",
    "#  [24 40]]"
   ]
  },
  {
   "cell_type": "markdown",
   "metadata": {
    "id": "2klcFh_wKeZl"
   },
   "source": [
    "Создайте массив размером $(10, 3)$, который состоит из повторяющихся рядов исходного массива:"
   ]
  },
  {
   "cell_type": "code",
   "execution_count": 99,
   "metadata": {
    "colab": {
     "base_uri": "https://localhost:8080/"
    },
    "id": "V3iiVqlRKnlw",
    "outputId": "7945a08e-0ef4-48e3-8cc3-f7951760ebd0"
   },
   "outputs": [
    {
     "name": "stdout",
     "output_type": "stream",
     "text": [
      "[[0 1 2]\n",
      " [3 4 5]\n",
      " [6 7 8]]\n",
      "[[6. 7. 8.]\n",
      " [6. 7. 8.]\n",
      " [0. 1. 2.]\n",
      " [0. 1. 2.]\n",
      " [3. 4. 5.]\n",
      " [6. 7. 8.]\n",
      " [3. 4. 5.]\n",
      " [3. 4. 5.]\n",
      " [6. 7. 8.]\n",
      " [6. 7. 8.]]\n"
     ]
    }
   ],
   "source": [
    "data = np.arange(9).reshape(3, 3)\n",
    "print(data)\n",
    "\n",
    "data1 = np.zeros((10, 3))\n",
    "for row in range(10):\n",
    "  data1[row, :] = data[np.random.choice(data.shape[0]), :]\n",
    "print(data1)\n",
    "\n",
    "# *Например,\n",
    "# [[3 4 5]\n",
    "#  [6 7 8]\n",
    "#  [0 1 2]\n",
    "#  [6 7 8]\n",
    "#  [3 4 5]\n",
    "#  [6 7 8]\n",
    "#  [6 7 8]\n",
    "#  [6 7 8]\n",
    "#  [6 7 8]\n",
    "#  [0 1 2]]"
   ]
  },
  {
   "cell_type": "markdown",
   "metadata": {
    "id": "SH70EM7FIyqL"
   },
   "source": [
    "Соберите массив, состоящий из элементов 2й и 4й колонок и строк с 1й по 3ю:"
   ]
  },
  {
   "cell_type": "code",
   "execution_count": 100,
   "metadata": {
    "colab": {
     "base_uri": "https://localhost:8080/"
    },
    "id": "c6KbqmPBDYaJ",
    "outputId": "2db10973-61b1-4332-bd6e-66cf665dcdf2"
   },
   "outputs": [
    {
     "name": "stdout",
     "output_type": "stream",
     "text": [
      "[[20 22  2 14 25  8]\n",
      " [ 7 25 23  3 22 15]\n",
      " [ 8 16  9 22  0  9]\n",
      " [14  9 33 21  7  6]\n",
      " [ 4 24 24 28  3 40]]\n",
      "[[23 22]\n",
      " [ 9  0]\n",
      " [33  7]]\n"
     ]
    }
   ],
   "source": [
    "data = np.array([[20, 22,  2, 14, 25,  8],\n",
    "                [ 7, 25, 23,  3, 22, 15],\n",
    "                [ 8, 16,  9, 22,  0,  9],\n",
    "                [ 14, 9,  33, 21,  7,  6],\n",
    "                [ 4, 24, 24, 28,  3, 40]])\n",
    "print(data)\n",
    "\n",
    "print(data[1:4, (2,4)])\n",
    "\n",
    "# [[23 22]\n",
    "#  [ 9  0]\n",
    "#  [33  7]]"
   ]
  },
  {
   "cell_type": "markdown",
   "metadata": {
    "id": "vS3kwb59Jee2"
   },
   "source": [
    "Инвертируйте порядок элементов в последних двух колонках:"
   ]
  },
  {
   "cell_type": "code",
   "execution_count": 101,
   "metadata": {
    "colab": {
     "base_uri": "https://localhost:8080/"
    },
    "id": "wTKNzMf9Jd3g",
    "outputId": "ac235a69-72be-405e-8bc9-a24f57ef9742"
   },
   "outputs": [
    {
     "name": "stdout",
     "output_type": "stream",
     "text": [
      "[[20 22  2 14 25  8]\n",
      " [ 7 25 23  3 22 15]\n",
      " [ 8 16  9 22  0  9]\n",
      " [14  9 33 21  7  6]\n",
      " [ 4 24 24 28  3 40]]\n",
      "[[20 22  2 14  3 40]\n",
      " [ 7 25 23  3  7  6]\n",
      " [ 8 16  9 22  0  9]\n",
      " [14  9 33 21 22 15]\n",
      " [ 4 24 24 28 25  8]]\n"
     ]
    }
   ],
   "source": [
    "data = np.array([[20, 22,  2, 14, 25,  8],\n",
    "                [ 7, 25, 23,  3, 22, 15],\n",
    "                [ 8, 16,  9, 22,  0,  9],\n",
    "                [ 14, 9,  33, 21,  7,  6],\n",
    "                [ 4, 24, 24, 28,  3, 40]])\n",
    "print(data)\n",
    "\n",
    "data1 = np.flipud(data[:, [-2,-1]])\n",
    "data[:, [-2,-1]] = data1\n",
    "print(data)\n",
    "\n",
    "#data[:, -1] = data2(-1)\n",
    "#print(data)\n",
    "\n",
    "# [[20 22  2 14  3 40]\n",
    "#  [ 7 25 23  3  7  6]\n",
    "#  [ 8 16  9 22  0  9]\n",
    "#  [14  9 33 21 22 15]\n",
    "#  [ 4 24 24 28 25  8]]"
   ]
  },
  {
   "cell_type": "code",
   "execution_count": null,
   "metadata": {
    "id": "lr9Ecb42JIQm"
   },
   "outputs": [],
   "source": []
  },
  {
   "cell_type": "code",
   "execution_count": null,
   "metadata": {},
   "outputs": [],
   "source": []
  },
  {
   "cell_type": "code",
   "execution_count": null,
   "metadata": {},
   "outputs": [],
   "source": []
  },
  {
   "cell_type": "code",
   "execution_count": null,
   "metadata": {},
   "outputs": [],
   "source": []
  },
  {
   "cell_type": "code",
   "execution_count": null,
   "metadata": {},
   "outputs": [],
   "source": []
  },
  {
   "cell_type": "code",
   "execution_count": null,
   "metadata": {},
   "outputs": [],
   "source": []
  },
  {
   "cell_type": "code",
   "execution_count": null,
   "metadata": {},
   "outputs": [],
   "source": []
  }
 ],
 "metadata": {
  "colab": {
   "collapsed_sections": [],
   "name": "Pr01_Numpy.ipynb",
   "provenance": []
  },
  "kernelspec": {
   "display_name": "Python 3",
   "language": "python",
   "name": "python3"
  },
  "language_info": {
   "codemirror_mode": {
    "name": "ipython",
    "version": 3
   },
   "file_extension": ".py",
   "mimetype": "text/x-python",
   "name": "python",
   "nbconvert_exporter": "python",
   "pygments_lexer": "ipython3",
   "version": "3.8.5"
  }
 },
 "nbformat": 4,
 "nbformat_minor": 1
}
