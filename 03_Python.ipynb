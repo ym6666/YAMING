{
 "cells": [
  {
   "cell_type": "markdown",
   "metadata": {
    "id": "_hmXpj3l1WIL"
   },
   "source": [
    "# Pandas"
   ]
  },
  {
   "cell_type": "markdown",
   "metadata": {
    "id": "ZvFbiSZm1bP7"
   },
   "source": [
    "Pandas - это библиотека для работы с табличными данными.\n",
    "\n",
    "Как всегда, [официальный сайт](https://pandas.pydata.org/) предоставляет самую актуальную и полезную информацию. Доки по функциям и классам [здесь](https://pandas.pydata.org/pandas-docs/stable/reference/index.html)."
   ]
  },
  {
   "cell_type": "markdown",
   "metadata": {
    "id": "1Dy-A1LZ2JUs"
   },
   "source": [
    "Установка pandas как обычно не составляет сложностей:"
   ]
  },
  {
   "cell_type": "code",
   "execution_count": null,
   "metadata": {
    "colab": {
     "base_uri": "https://localhost:8080/",
     "height": 381
    },
    "id": "7VCWliX_2MeI",
    "outputId": "9e7af21a-ac0a-4f0d-b17d-58d9897ff8e2"
   },
   "outputs": [],
   "source": [
    "!pip install pandas==1.0.0"
   ]
  },
  {
   "cell_type": "markdown",
   "metadata": {
    "id": "TlwBz_g72OMg"
   },
   "source": [
    "Импорт библиотеки с устоявшимся сокращением:"
   ]
  },
  {
   "cell_type": "code",
   "execution_count": null,
   "metadata": {
    "id": "JGQnosLe2TiZ"
   },
   "outputs": [],
   "source": [
    "import pandas as pd"
   ]
  },
  {
   "cell_type": "markdown",
   "metadata": {
    "id": "lD9rbk7k2auF"
   },
   "source": [
    "# Создание объекта таблицы"
   ]
  },
  {
   "cell_type": "markdown",
   "metadata": {
    "id": "M6V26pIT2if3"
   },
   "source": [
    "Начнем с простого создания объекта основного класса в pandas - `DataFrame`. Фреймы в pandas представляют собой двумерные массивы (матрицы) данных. Для применения в машинном обучении визуально можно представить данные следующим образом:\n",
    "\n",
    "$$\n",
    "X = \n",
    "\\begin{bmatrix}\n",
    "x^{(1)}_1 & \\dots & x^{(1)}_{m-1} & x^{(1)}_m \\\\\n",
    "x^{(2)}_1 & \\dots & x^{(2)}_{m-1} & x^{(2)}_m \\\\\n",
    "\\vdots & \\ddots &  \\vdots & \\vdots  \\\\\n",
    "x^{(n)}_1 & \\dots & x^{(n)}_{m-1} & x^{(n)}_m \\\\\n",
    "\\end{bmatrix}\n",
    "$$\n",
    "\n",
    "где $n$ - количество записей (сэмплов/рядов) в данных, $m$ - количество признаков (предикторов/фич) в данных.\n",
    "\n",
    "> **Признаки** в данных - это те данные, на основе которых производится анализ данных, обучение модели и предсказание. В реальной задаче признаками могут быть \"цена\", \"пол\", \"группа крови\", \"текст в заявке\" и т.д. [Колонки в таблице]\n",
    "\n",
    "> **Записи** в данных - сущности, каждая из которых имеет свой набор значений признаков. В базе данных банка это могут быть отдельные транзакции. Все транзакции имеют одинаковые признаки, но значения этих признаков у каждой записи свои. [Строки в таблице]"
   ]
  },
  {
   "cell_type": "markdown",
   "metadata": {
    "id": "YGZ0Le_m6866"
   },
   "source": [
    "Создание `DataFrame` возможно разными способами, для начала попробуем создать фрейм из двумерного массива:"
   ]
  },
  {
   "cell_type": "code",
   "execution_count": null,
   "metadata": {
    "colab": {
     "base_uri": "https://localhost:8080/"
    },
    "id": "6ffPZfw67l5u",
    "outputId": "de88ad30-81ac-4f7e-a7b3-cf28a71c3aba"
   },
   "outputs": [],
   "source": [
    "import numpy as np\n",
    "\n",
    "arr = np.random.randint(0, 10, size=(5, 3))\n",
    "print(arr)"
   ]
  },
  {
   "cell_type": "code",
   "execution_count": null,
   "metadata": {
    "colab": {
     "base_uri": "https://localhost:8080/",
     "height": 204
    },
    "id": "AHGZmnLI7x6R",
    "outputId": "4363cb0b-66fb-445c-fb35-def9f77ef8e0"
   },
   "outputs": [],
   "source": [
    "# Создание фрейма - просто вызвать конструктор\n",
    "df = pd.DataFrame(data=arr)\n",
    "# Фреймы удобнее отображать с помощью встроенных средств Jupyter\n",
    "df"
   ]
  },
  {
   "cell_type": "markdown",
   "metadata": {
    "id": "GDmWQFBI9TmN"
   },
   "source": [
    "В представленном фрейме важно отметить две особенности:\n",
    "- Колонки (признаки) имеют имена, но так как мы их (имена) не задали, то они создались автоматически;\n",
    "- Каждая строка (запись) имеет **уникальный** индекс, тоже создались сами, так как мы не передавали своих индексов.\n",
    "\n",
    "Для задания имен колонок используется аргумент в конструкторе `columns`, в который передаеся список имен по количеству признаков. Для задания индексов аргумент `index`, в который передается список индексов по количеству записей в массиве."
   ]
  },
  {
   "cell_type": "markdown",
   "metadata": {
    "id": "kcJdh-ES_bsy"
   },
   "source": [
    "## Задание\n",
    "\n",
    "Создайте фрейм с именами колонок `'col_1', 'col_2', 'col_3'` и индексами по алфавиту (`'A', 'B', 'C', ...` или `'A', 'Б', 'В', ...`)."
   ]
  },
  {
   "cell_type": "code",
   "execution_count": null,
   "metadata": {
    "colab": {
     "base_uri": "https://localhost:8080/",
     "height": 204
    },
    "id": "fes-4j4U_1ts",
    "outputId": "7bf1f465-a96e-408e-d7ed-23d039ce69c5"
   },
   "outputs": [],
   "source": [
    "import pandas as pd\n",
    "import numpy as np\n",
    "\n",
    "arr = np.random.randint(0, 10, size=(5, 3))\n",
    "df = pd.DataFrame(data=arr, index=['A', 'Б', 'В', 'Г', 'Д'] , columns=['col_1', 'col_2', 'col_3'])\n",
    "df"
   ]
  },
  {
   "cell_type": "markdown",
   "metadata": {
    "id": "kdd9oZeYBd3P"
   },
   "source": [
    "# Создание фрейма из словарей"
   ]
  },
  {
   "cell_type": "markdown",
   "metadata": {
    "id": "E1TqHsVxBhKy"
   },
   "source": [
    "Другим способом создания фрейма является конструктор на основе словаря с данными:"
   ]
  },
  {
   "cell_type": "code",
   "execution_count": null,
   "metadata": {
    "colab": {
     "base_uri": "https://localhost:8080/",
     "height": 173
    },
    "id": "ifWrFrLUCJ5r",
    "outputId": "00887adc-cbf2-4568-97c7-bbb9a9e4d32a"
   },
   "outputs": [],
   "source": [
    "# Создается словарь, в котором ключи будут названиями колонок,\n",
    "#   а значения - данные по этим колонкам\n",
    "data = {\n",
    "    'test_1_mark': [4.6, 3.8, 5.0, 4.5],\n",
    "    'test_2_mark': [5.0, 3.9, 4.7, 4.5]\n",
    "}\n",
    "\n",
    "pd.DataFrame(data)"
   ]
  },
  {
   "cell_type": "markdown",
   "metadata": {
    "id": "qr6mFv5xDmZc"
   },
   "source": [
    "Альтернативой использования словарей является создание массива словарей:"
   ]
  },
  {
   "cell_type": "code",
   "execution_count": null,
   "metadata": {
    "colab": {
     "base_uri": "https://localhost:8080/",
     "height": 142
    },
    "id": "C037OQaSD8yY",
    "outputId": "aa70d444-41cf-4db4-88a7-c7f6d6f5b80d"
   },
   "outputs": [],
   "source": [
    "# Создается список записей, каждая запись представлена словарем\n",
    "# В словаре ключи - названия колонок\n",
    "# При создании фрейма pandas просмотри все возможные ключи словарей в списке\n",
    "#   и создаст колонок по их названиям\n",
    "data = [\n",
    "    {\n",
    "        'test_1_mark': 4.6,\n",
    "        'test_2_mark': 5.0\n",
    "    },\n",
    "    {\n",
    "        'test_1_mark': 3.8,\n",
    "        'test_2_mark': 3.9\n",
    "    },\n",
    "    {\n",
    "        'test_1_mark': 5.0\n",
    "    },\n",
    "]\n",
    "\n",
    "pd.DataFrame(data)"
   ]
  },
  {
   "cell_type": "markdown",
   "metadata": {
    "id": "Xz-spCzKEl4m"
   },
   "source": [
    "Обратите внимание, в одной записи отсутсвовало значение для колонки и во фрейме такое значение обозначено как `NaN`.\n",
    "\n",
    "> **NaN** (Not a Number) - представление пропусков во фрейме.\n",
    "\n",
    "Пропуски в данных являение достаточно распространенное. Например, если данные собираются путем анкетирования, то опциональный вопрос может не иметь ответа, поэтому такие записи пропускаются. При разработке моделей машинного обучения с пропусками ведется отдельная работа, но для сырых данных - это нормальное явление."
   ]
  },
  {
   "cell_type": "markdown",
   "metadata": {
    "id": "N8tbu882Hmqj"
   },
   "source": [
    "# Типы данных"
   ]
  },
  {
   "cell_type": "markdown",
   "metadata": {
    "id": "JhS1UIMCHoIE"
   },
   "source": [
    "Как и в numpy, pandas поддерживает различные типы данных. Для примера создадим фрейм, в котором колонки имеют разные типы данных:"
   ]
  },
  {
   "cell_type": "code",
   "execution_count": null,
   "metadata": {
    "colab": {
     "base_uri": "https://localhost:8080/",
     "height": 173
    },
    "id": "Gals1YglIwGr",
    "outputId": "8f96d054-1253-4d04-f0d8-70659c6a63ec"
   },
   "outputs": [],
   "source": [
    "df = pd.DataFrame({'A': 1.,\n",
    "                   'B': pd.Timestamp('20130102'),\n",
    "                   'C': np.array([2.] * 4, dtype='float32'),\n",
    "                   'D': np.array([3] * 4, dtype='int32'),\n",
    "                   'E': pd.Categorical([\"test\", \"train\", \"test\", \"train\"]),\n",
    "                   'F': 'foo'})\n",
    "df"
   ]
  },
  {
   "cell_type": "markdown",
   "metadata": {
    "id": "RmHIzPEnJCj3"
   },
   "source": [
    "Как видите, создается фрейм, в котором каждая колонка имеет свой тип. Из них для нас имеются два новых типа:\n",
    "- `Timestamp` - конструктор для временного типа в pandas (`datetime64`);\n",
    "- `Categorical` - категориальный тип, который в большинстве своем является альтернативой численным данным.\n",
    "\n",
    "> **Категориальные данные** - данные, значения которых ограничены списком категорий (одно из возможных значений);\n",
    "\n",
    "> **Численные данные** - данные, которые имеют численное значение (вещественное или целочисленное).\n",
    "\n",
    "Для просмотра информации о фрейме полезно использовать метод `DataFrame.info()`:"
   ]
  },
  {
   "cell_type": "code",
   "execution_count": null,
   "metadata": {
    "id": "yQ-DhPj8I7HZ"
   },
   "outputs": [],
   "source": [
    "df.info()"
   ]
  },
  {
   "cell_type": "markdown",
   "metadata": {
    "id": "MKHizp4tLCQ3"
   },
   "source": [
    "Если тип данных не задан явно как категориальный, то строки будут иметь тип `object`, как универсальный тип данных."
   ]
  },
  {
   "cell_type": "markdown",
   "metadata": {
    "id": "XtXeG0mrNRwW"
   },
   "source": [
    "# Обзор данных"
   ]
  },
  {
   "cell_type": "markdown",
   "metadata": {
    "id": "9EM78zz3NTY1"
   },
   "source": [
    "Начало любого анализа данных происходит с того, что мы должны разобраться, с чем имеем дело, поэтому возможности быстрого обзора данных - то, что нужно:"
   ]
  },
  {
   "cell_type": "code",
   "execution_count": null,
   "metadata": {
    "id": "bJNK6MJANiJc"
   },
   "outputs": [],
   "source": [
    "df = pd.DataFrame(\n",
    "    data=np.random.randint(-10, 10, size=(15, 3)), \n",
    "    columns=['x1', 'x2', 'x3']\n",
    ")\n",
    "\n",
    "# Функция получения первых записей фрейма\n",
    "# Аргументом задается количество выводимых данных\n",
    "#   Если не задано - 5 по-умолчанию\n",
    "df.head(4)"
   ]
  },
  {
   "cell_type": "code",
   "execution_count": null,
   "metadata": {
    "id": "cuGijZBWN0Rc"
   },
   "outputs": [],
   "source": [
    "# Функция получения последних записей фрейма\n",
    "# Аргументом задается количество выводимых данных\n",
    "#   Если не задано - 5 по-умолчанию\n",
    "df.tail(4)"
   ]
  },
  {
   "cell_type": "code",
   "execution_count": null,
   "metadata": {
    "id": "uXCm5zZiN6HB"
   },
   "outputs": [],
   "source": [
    "# Функция отображения основной информации о фрейме:\n",
    "#   Количество записей\n",
    "#   Типы колонок\n",
    "#   Количество ненулевых значений\n",
    "#   Тип индекса\n",
    "df.info()"
   ]
  },
  {
   "cell_type": "code",
   "execution_count": null,
   "metadata": {
    "id": "Y0MfbDxMOPC4"
   },
   "outputs": [],
   "source": [
    "# Функция отображения статистики по численным колонкам\n",
    "df.describe()"
   ]
  },
  {
   "cell_type": "code",
   "execution_count": null,
   "metadata": {
    "id": "-kRXV1P2OfHP"
   },
   "outputs": [],
   "source": [
    "# Атрибут получения индексов фрейма\n",
    "df.index"
   ]
  },
  {
   "cell_type": "code",
   "execution_count": null,
   "metadata": {
    "id": "TsPphCdAapK9"
   },
   "outputs": [],
   "source": [
    "# Или чтобы представить в виде списка\n",
    "list(df.index)"
   ]
  },
  {
   "cell_type": "code",
   "execution_count": null,
   "metadata": {
    "id": "H-ohc7UJOmIO"
   },
   "outputs": [],
   "source": [
    "# Атрибут получения имен колонок фрейма\n",
    "df.columns"
   ]
  },
  {
   "cell_type": "code",
   "execution_count": null,
   "metadata": {
    "id": "na-OEHT92dln"
   },
   "outputs": [],
   "source": [
    "# Атрибут размерности фрейма\n",
    "df.shape"
   ]
  },
  {
   "cell_type": "code",
   "execution_count": null,
   "metadata": {
    "id": "Qa5POknMO2xm"
   },
   "outputs": [],
   "source": [
    "# Преобразование к двумерному массиву numpy\n",
    "df.to_numpy()"
   ]
  },
  {
   "cell_type": "code",
   "execution_count": null,
   "metadata": {
    "id": "kdILwsLJPGJf"
   },
   "outputs": [],
   "source": [
    "# Получение транспонированного представления\n",
    "# Колонки -> ряды, ряды -> колонки\n",
    "df.T\n",
    "\n",
    "# (*) Транспонирование вряд ли часто понадобится при анализе, но учитывать стоит"
   ]
  },
  {
   "cell_type": "markdown",
   "metadata": {
    "id": "jJ-4jpR4Amqg"
   },
   "source": [
    "# Обращение к данным"
   ]
  },
  {
   "cell_type": "markdown",
   "metadata": {
    "id": "3zVtiVD4Bb_o"
   },
   "source": [
    "Так как данные представлены в виде двумерного массива, то обращение к ним является важным инструментом.\n",
    "\n",
    "Начнем с того, чтобы обращаться к конкретной колонке:"
   ]
  },
  {
   "cell_type": "code",
   "execution_count": null,
   "metadata": {
    "colab": {
     "base_uri": "https://localhost:8080/",
     "height": 204
    },
    "id": "L84Jgn8xFqeZ",
    "outputId": "c3596d2d-62b3-4763-ffed-a56d2878311f"
   },
   "outputs": [],
   "source": [
    "df = pd.DataFrame(\n",
    "    data=np.random.randint(0, 10, size=(5, 3)), \n",
    "    columns=['x1', 'x2', 'x3']\n",
    ")\n",
    "\n",
    "df"
   ]
  },
  {
   "cell_type": "code",
   "execution_count": null,
   "metadata": {
    "colab": {
     "base_uri": "https://localhost:8080/"
    },
    "id": "xi4PIyZpFzzp",
    "outputId": "b2b5006c-a8cf-43ad-a5b6-9e189e06f614"
   },
   "outputs": [],
   "source": [
    "print(df['x1'])\n",
    "print(type(df['x1']))"
   ]
  },
  {
   "cell_type": "markdown",
   "metadata": {
    "id": "yt-YPbzyF8zS"
   },
   "source": [
    "Индексация во фрейме по колонкам производится по имени колонок. В результате создается объект `Series` (ряд), который является одномерным массивом. В случае индексации по колонкам каждая запись в ряду имеет индекс из основного фрейма."
   ]
  },
  {
   "cell_type": "markdown",
   "metadata": {
    "id": "jdz_KJZNP7FK"
   },
   "source": [
    "Аналогичный тип данных создается, когда мы обращаемся к конкретной записи в данных. Кстати, просто так не обратиться, поэтому для индексации по записям используются методы `DataFrame.iloc[]` и `DataFrame.loc[]`.\n",
    "\n",
    "Взгляните на разницу:"
   ]
  },
  {
   "cell_type": "code",
   "execution_count": null,
   "metadata": {
    "colab": {
     "base_uri": "https://localhost:8080/",
     "height": 204
    },
    "id": "6Qk0PYvSQfJ2",
    "outputId": "eff7320a-d5ef-41c5-ec43-1ece6be1e64e"
   },
   "outputs": [],
   "source": [
    "data = {\n",
    "    'feature1': np.arange(15),\n",
    "    'feature2': np.linspace(0, 10, 15),\n",
    "    'feature3': 'string',\n",
    "}\n",
    "df = pd.DataFrame(data, index=list('ABCDEFGHIJKLMNO'))\n",
    "df.head()"
   ]
  },
  {
   "cell_type": "code",
   "execution_count": null,
   "metadata": {
    "colab": {
     "base_uri": "https://localhost:8080/"
    },
    "id": "146jUYuDRIqL",
    "outputId": "0612dced-1844-42d5-88be-ad7ff17964cc"
   },
   "outputs": [],
   "source": [
    "df.iloc[2]"
   ]
  },
  {
   "cell_type": "code",
   "execution_count": null,
   "metadata": {
    "colab": {
     "base_uri": "https://localhost:8080/"
    },
    "id": "xNER-5W-RK_4",
    "outputId": "efe5edfb-2117-47ab-ec2d-9b0196bc54ef"
   },
   "outputs": [],
   "source": [
    "df.loc['C']"
   ]
  },
  {
   "cell_type": "code",
   "execution_count": null,
   "metadata": {
    "colab": {
     "base_uri": "https://localhost:8080/"
    },
    "id": "WUGvwU1vRTvj",
    "outputId": "aea57761-cdcb-4b20-f768-77fe2bcf8ff3"
   },
   "outputs": [],
   "source": [
    "df.iloc[2, 1]"
   ]
  },
  {
   "cell_type": "code",
   "execution_count": null,
   "metadata": {
    "colab": {
     "base_uri": "https://localhost:8080/"
    },
    "id": "8CnUrklnRb0M",
    "outputId": "94c80b46-f3a7-497e-bff5-3affb8ed11ed"
   },
   "outputs": [],
   "source": [
    "df.loc['C', 'feature2']"
   ]
  },
  {
   "cell_type": "markdown",
   "metadata": {
    "id": "TXzXJmmbRilU"
   },
   "source": [
    "Если разница не явна, то обсудим:\n",
    "> `.iloc[]` используется для обращения по индексам как рядов, так и колонок;\n",
    "\n",
    "> `.loc[]` используется для обращения по именованиям как рядов, так и колонок.\n",
    "\n",
    "В индексации можно применять как слайсы, подобно тем, что научились применять в numpy, так и массивы в качестве индексов.\n",
    "\n",
    "При индексации по единственной строке создается объект `Series`, но уже с индексами в виде колонок.\n"
   ]
  },
  {
   "cell_type": "markdown",
   "metadata": {
    "id": "IQZEyGyrR3cb"
   },
   "source": [
    "## Задание\n",
    "\n",
    "Выведите часть фрейма со второго ряда по девятый (индексы с 'C' по 'I') и только `feature1` и `feature3`:"
   ]
  },
  {
   "cell_type": "code",
   "execution_count": null,
   "metadata": {
    "colab": {
     "base_uri": "https://localhost:8080/",
     "height": 204
    },
    "id": "Cp60LdlbSC4C",
    "outputId": "27f18e0b-5537-4d59-d70d-05a112292bb8"
   },
   "outputs": [],
   "source": [
    "import pandas as pd\n",
    "import numpy as np\n",
    "\n",
    "data = {\n",
    "    'feature1': np.arange(15),\n",
    "    'feature2': np.linspace(0, 10, 15),\n",
    "    'feature3': 'string',\n",
    "}\n",
    "df = pd.DataFrame(data, index=list('ABCDEFGHIJKLMNO'))\n",
    "df.head()"
   ]
  },
  {
   "cell_type": "code",
   "execution_count": null,
   "metadata": {
    "colab": {
     "base_uri": "https://localhost:8080/",
     "height": 266
    },
    "id": "8qMFOU26SEKw",
    "outputId": "68c22aec-31d3-4ed6-b20d-27970ba17f8a"
   },
   "outputs": [],
   "source": [
    "# TODO - выделите часть фрейма с помощью .loc[]\n",
    "df.loc['C':'I', ['feature1', 'feature3']]"
   ]
  },
  {
   "cell_type": "code",
   "execution_count": null,
   "metadata": {
    "colab": {
     "base_uri": "https://localhost:8080/",
     "height": 266
    },
    "id": "t7AO3Ge5SwgT",
    "outputId": "66071953-cec2-40d9-ad06-3118dba2173e"
   },
   "outputs": [],
   "source": [
    "# TODO - выделите часть фрейма с помощью .iloc[]\n",
    "df.iloc[2:9, [0, 2]]"
   ]
  },
  {
   "cell_type": "markdown",
   "metadata": {
    "id": "TTAoF4zjENYG"
   },
   "source": [
    "# Условная индексация"
   ]
  },
  {
   "cell_type": "markdown",
   "metadata": {
    "id": "z_s9peSYEPaB"
   },
   "source": [
    "При работе с данными часто необходимо выбрать часть данных по условному признаку. По аналогии с работой в numpy, применение булевых операторов на ряд данных создает такой же по размеру ряд из булевых элементов, представляющих собой маску:"
   ]
  },
  {
   "cell_type": "code",
   "execution_count": null,
   "metadata": {
    "colab": {
     "base_uri": "https://localhost:8080/",
     "height": 142
    },
    "id": "lnbE8vUyE1f4",
    "outputId": "00f8bdf7-a43d-445f-f35f-5884ef15da04"
   },
   "outputs": [],
   "source": [
    "df = pd.DataFrame(\n",
    "    data=np.random.randint(0, 10, size=(15, 3)), \n",
    "    columns=['x1', 'x2', 'x3']\n",
    ")\n",
    "df.head(3)"
   ]
  },
  {
   "cell_type": "code",
   "execution_count": null,
   "metadata": {
    "id": "p3AUBZupE2ke"
   },
   "outputs": [],
   "source": [
    "df['x1'] > 5"
   ]
  },
  {
   "cell_type": "markdown",
   "metadata": {
    "id": "KMgR5QXlHrci"
   },
   "source": [
    "После того, как маска получена, можно применить ее, чтобы выбрать конкретные записи (строки) данных. При этом, индексация маской работает как при использовании `[]`, так и при использовании `.loc[]`."
   ]
  },
  {
   "cell_type": "code",
   "execution_count": null,
   "metadata": {
    "colab": {
     "base_uri": "https://localhost:8080/",
     "height": 359
    },
    "id": "PDUJHQJxH8Ix",
    "outputId": "38a922ba-1127-4b19-e868-83dc2915c192"
   },
   "outputs": [],
   "source": [
    "mask = df['x1'] > 5\n",
    "df[mask]\n",
    "\n",
    "# Или df[df['x1'] > 5]"
   ]
  },
  {
   "cell_type": "markdown",
   "metadata": {
    "id": "xiPo4TS8bScn"
   },
   "source": [
    "Чтобы получить значения, обратные условию, можно воспользоваться оператором НЕ: `~` - он инвертирует маску условия:"
   ]
  },
  {
   "cell_type": "code",
   "execution_count": null,
   "metadata": {
    "colab": {
     "base_uri": "https://localhost:8080/",
     "height": 204
    },
    "id": "pE8S310qbb41",
    "outputId": "6eeae943-6727-4fe4-a7ef-de2378a87672"
   },
   "outputs": [],
   "source": [
    "df[~(df['x1'] > 5)]"
   ]
  },
  {
   "cell_type": "markdown",
   "metadata": {
    "id": "Ax96PHGlIDnL"
   },
   "source": [
    "> Как и в numpy, для применения нескольких операций необходимо оборачивать каждую в скобки."
   ]
  },
  {
   "cell_type": "markdown",
   "metadata": {
    "id": "nbpi-IeCILB2"
   },
   "source": [
    "## Задание\n",
    "\n",
    "Выберите записи во фрейме, которые по признаку `x1` имеют значение больше 3, а по признаку `x3` - меньше 8."
   ]
  },
  {
   "cell_type": "code",
   "execution_count": null,
   "metadata": {
    "colab": {
     "base_uri": "https://localhost:8080/",
     "height": 142
    },
    "id": "j1vNwIhkIZD4",
    "outputId": "1be195de-f345-4926-fa41-1a1238560939"
   },
   "outputs": [],
   "source": [
    "import pandas as pd\n",
    "import numpy as np\n",
    "\n",
    "df = pd.DataFrame(\n",
    "    data=np.random.randint(0, 10, size=(15, 3)), \n",
    "    columns=['x1', 'x2', 'x3']\n",
    ")\n",
    "df.head(3)"
   ]
  },
  {
   "cell_type": "code",
   "execution_count": null,
   "metadata": {
    "colab": {
     "base_uri": "https://localhost:8080/",
     "height": 328
    },
    "id": "eDmDbM8nIZeE",
    "outputId": "2f4e08a9-37f5-4764-da9e-ff6f0088d729"
   },
   "outputs": [],
   "source": [
    "# TODO - отфильтровать фрейм по значениям признаков\n",
    "df[(df['x1']>3)&(df['x3']<8)]"
   ]
  },
  {
   "cell_type": "code",
   "execution_count": null,
   "metadata": {
    "colab": {
     "base_uri": "https://localhost:8080/",
     "height": 328
    },
    "id": "3zHk7Z2SIkra",
    "outputId": "33cbace9-ce7f-4136-f48d-2600173014d3"
   },
   "outputs": [],
   "source": [
    "# TODO - отобразите только колонки x1 и x2 с учетом условий \n",
    "#           (используйте .loc[])\n",
    "df[(df['x1']>3)&(df['x3']<8)].loc[:, ['x1', 'x2']]"
   ]
  },
  {
   "cell_type": "markdown",
   "metadata": {
    "id": "pppYzrYDulwx"
   },
   "source": [
    "## Задание\n",
    "\n",
    "С помощью метода `DataFrame.query()` получите записи, которые соответсвуют условию сравнения колонок $x1 > x3$:"
   ]
  },
  {
   "cell_type": "code",
   "execution_count": null,
   "metadata": {
    "colab": {
     "base_uri": "https://localhost:8080/",
     "height": 266
    },
    "id": "WqFcnjEEuzBq",
    "outputId": "5d1f8e3a-4e15-4d90-c871-36c9b068de79"
   },
   "outputs": [],
   "source": [
    "import pandas as pd\n",
    "import numpy as np\n",
    "\n",
    "df = pd.DataFrame(\n",
    "    [[1, 2, 6], [5, 1, 1], [8, 4, 6], [4, 1, 1], [9, 9, 0], [-1, 2, 1], [5, 5, 5]],\n",
    "    columns = ['x1', 'x2', 'x3']\n",
    ")\n",
    "df"
   ]
  },
  {
   "cell_type": "code",
   "execution_count": null,
   "metadata": {
    "colab": {
     "base_uri": "https://localhost:8080/",
     "height": 173
    },
    "id": "y4CjO3YfvFXq",
    "outputId": "523833ae-c744-4911-a452-e584b519e245"
   },
   "outputs": [],
   "source": [
    "# TODO - Методом DataFrame.query() получить записи, удовлетворяющие условию\n",
    "#           x1 > x3\n",
    "df.query('x1 > x3')"
   ]
  },
  {
   "cell_type": "code",
   "execution_count": null,
   "metadata": {
    "colab": {
     "base_uri": "https://localhost:8080/",
     "height": 173
    },
    "id": "A4nFNejgvSAN",
    "outputId": "1d19fcd2-1154-4c8a-de99-d275b9c2e4ef"
   },
   "outputs": [],
   "source": [
    "# TODO - Сделать аналогичное действие, но уже с помощью условной индексации\n",
    "df[df['x1']>df['x3']]"
   ]
  },
  {
   "cell_type": "markdown",
   "metadata": {
    "id": "9nLi9I9k1lT4"
   },
   "source": [
    "# Операции с рядами / Новые колонки"
   ]
  },
  {
   "cell_type": "markdown",
   "metadata": {
    "id": "pUqSlAwi17k1"
   },
   "source": [
    "Работа с фреймами и рядами данных в pandas поддерживает многие операции по аналогии с работой в numpy."
   ]
  },
  {
   "cell_type": "code",
   "execution_count": null,
   "metadata": {
    "colab": {
     "base_uri": "https://localhost:8080/",
     "height": 142
    },
    "id": "xxdg5abT22ZJ",
    "outputId": "34bfc6bf-3030-4838-ab88-b6da16a2b106"
   },
   "outputs": [],
   "source": [
    "df = pd.DataFrame(\n",
    "    data=np.random.randint(0, 10, size=(15, 3)), \n",
    "    columns=['x1', 'x2', 'x3']\n",
    ")\n",
    "df.head(3)"
   ]
  },
  {
   "cell_type": "code",
   "execution_count": null,
   "metadata": {
    "colab": {
     "base_uri": "https://localhost:8080/",
     "height": 142
    },
    "id": "DBbdLqIv3DAG",
    "outputId": "3287a8ed-782c-4d65-f6a0-93fc224d42b6"
   },
   "outputs": [],
   "source": [
    "# Создать новую колонку можно по аналогии с новым ключем в словаре\n",
    "# Сложение нескольких Series и запись в новую колонку\n",
    "df['x1+x2'] = df['x1'] + df['x2']\n",
    "df.head(3)"
   ]
  },
  {
   "cell_type": "code",
   "execution_count": null,
   "metadata": {
    "colab": {
     "base_uri": "https://localhost:8080/",
     "height": 142
    },
    "id": "YHsGI82a32Dy",
    "outputId": "e63f44ea-b2e3-4d5f-ae1f-cfd722eb25c8"
   },
   "outputs": [],
   "source": [
    "# Поэлементное умножение\n",
    "df['x1*x3'] = df['x1'] * df['x3']\n",
    "df.head(3)"
   ]
  },
  {
   "cell_type": "code",
   "execution_count": null,
   "metadata": {
    "colab": {
     "base_uri": "https://localhost:8080/"
    },
    "id": "2WLH7E1_37Zd",
    "outputId": "f1c333c6-83ec-44e3-e703-ec022ef7272d"
   },
   "outputs": [],
   "source": [
    "# Взятие среднего по колонке (метод Series.mean())\n",
    "df['x1'].mean()"
   ]
  },
  {
   "cell_type": "code",
   "execution_count": null,
   "metadata": {
    "colab": {
     "base_uri": "https://localhost:8080/",
     "height": 142
    },
    "id": "okj2LQ8a4X0c",
    "outputId": "ad29749a-a02d-46fa-e301-baab0c11c6d1"
   },
   "outputs": [],
   "source": [
    "# Использование функций numpy для работы с колонками\n",
    "df['x2_exp'] = np.exp(df['x2'])\n",
    "df.head(3)"
   ]
  },
  {
   "cell_type": "markdown",
   "metadata": {
    "id": "lGfjIyV14wC8"
   },
   "source": [
    "Как вы заметили, ряды (это же одномерные массивы) можно обрабатывать:\n",
    "- операциями Python;\n",
    "- методами класса Series;\n",
    "- функциями numpy.\n",
    "\n",
    "> Для создания новой колонки достаточно просто задать имя новой колонки и записать ряд данных (может быть даже одномерным массивом numpy), который имеет такой же размер, куда пишется."
   ]
  },
  {
   "cell_type": "markdown",
   "metadata": {
    "id": "5RF8V86g-JMk"
   },
   "source": [
    "Для случая, если нужной функции нет, то можно создать свою с помощью метода `Series.apply()`, которой передается название функции для применения над всем рядом."
   ]
  },
  {
   "cell_type": "code",
   "execution_count": null,
   "metadata": {
    "colab": {
     "base_uri": "https://localhost:8080/",
     "height": 142
    },
    "id": "a1hhrKsn-pSy",
    "outputId": "c9ad833d-4394-45f5-b406-4f5e52ddee48"
   },
   "outputs": [],
   "source": [
    "df = pd.DataFrame(\n",
    "    data=np.random.randint(0, 10, size=(3, 3)), \n",
    "    columns=['x1', 'x2', 'x3']\n",
    ")\n",
    "df"
   ]
  },
  {
   "cell_type": "code",
   "execution_count": null,
   "metadata": {
    "colab": {
     "base_uri": "https://localhost:8080/",
     "height": 250
    },
    "id": "Cl1cdYh5_Bsu",
    "outputId": "2e1d2e52-0ef4-4314-a45b-b5eb3ec9bd2d"
   },
   "outputs": [],
   "source": [
    "# Обязательно требование к функции - один аргумент\n",
    "# Эта функция будет передана в apply() и pandas\n",
    "#   будет вызывать ее и передавать в нее \n",
    "#   по одному элементу из ряда\n",
    "# Возвращать функция должна результат операции над элементом\n",
    "def my_func(x):\n",
    "    print(type(x))\n",
    "    print(x)\n",
    "    return x*2\n",
    "\n",
    "df['result'] = df['x1'].apply(my_func)\n",
    "df"
   ]
  },
  {
   "cell_type": "markdown",
   "metadata": {
    "id": "EiCkYETi_LOr"
   },
   "source": [
    "Как видно, в функцию передается каждый элемент в ряду, тип элемента соответсвует типу колонки. Результат метода `.apply()` - новый ряд с примененной функцией."
   ]
  },
  {
   "cell_type": "markdown",
   "metadata": {
    "id": "cL0aNoDx6hmU"
   },
   "source": [
    "# Операции с фреймами"
   ]
  },
  {
   "cell_type": "markdown",
   "metadata": {
    "id": "CIiispWG6s-N"
   },
   "source": [
    "## Переименование колонок / индексов"
   ]
  },
  {
   "cell_type": "markdown",
   "metadata": {
    "id": "X82Dz47d5vym"
   },
   "source": [
    "Одной из полезных функций является возможность переименования имен колонок. Для этого имеется метод `DataFrame.rename()`:"
   ]
  },
  {
   "cell_type": "code",
   "execution_count": null,
   "metadata": {
    "colab": {
     "base_uri": "https://localhost:8080/",
     "height": 142
    },
    "id": "r5a3F6Dw56dr",
    "outputId": "09e521cc-2981-44d9-abb0-20665ef43030"
   },
   "outputs": [],
   "source": [
    "df = pd.DataFrame(\n",
    "    data=np.random.randint(0, 10, size=(15, 3)), \n",
    "    columns=['x1', 'x2', 'x3']\n",
    ")\n",
    "df.head(3)"
   ]
  },
  {
   "cell_type": "code",
   "execution_count": null,
   "metadata": {
    "colab": {
     "base_uri": "https://localhost:8080/",
     "height": 142
    },
    "id": "fWw_Wo_D59FT",
    "outputId": "2e945350-38fd-46dc-95f0-59666efa0b42"
   },
   "outputs": [],
   "source": [
    "# Методу передается в аргумент columns словарь, \n",
    "#   в котором ключи - имена колонок,\n",
    "#   значения - новые имена для переименования\n",
    "df.rename(\n",
    "    columns={\n",
    "        'x1': 'new_name_for_x1',\n",
    "        'x3': 'that_not_x3' \n",
    "    },\n",
    "    inplace=True\n",
    ")\n",
    "df.head(3)"
   ]
  },
  {
   "cell_type": "markdown",
   "metadata": {
    "id": "3GP6Mkby6mIb"
   },
   "source": [
    "> Аргумент `inplace` является достаточно распространенным в методах фреймов. Этот аргумент управляет тем, как произвести операцию: прямо в этом классе (при установленном True) или вернуть результатом новый фрейм с произведенной операцией (при установленном False).\n",
    "\n",
    "Для сравнения аналогичный код без `inplace` выглядел бы так:"
   ]
  },
  {
   "cell_type": "code",
   "execution_count": null,
   "metadata": {
    "colab": {
     "base_uri": "https://localhost:8080/",
     "height": 514
    },
    "id": "9CECKRBntoXr",
    "outputId": "ce65aff8-fd42-4de2-a9a4-43d668d7b6f4"
   },
   "outputs": [],
   "source": [
    "df_renamed = df.rename(columns={\n",
    "    'x1': 'new_name_for_x1',\n",
    "    'x3': 'that_not_x3'\n",
    "})\n",
    "df_renamed"
   ]
  },
  {
   "cell_type": "markdown",
   "metadata": {
    "id": "Pn5PWfi18Nn1"
   },
   "source": [
    "Для переименования индексов (названий записей) используется тот же принцип, но словарь передается в аргумент `index` с ключами - исходными названиями индексов, значениями - новыми значениями."
   ]
  },
  {
   "cell_type": "markdown",
   "metadata": {
    "id": "ZJ0GeWkG8qqc"
   },
   "source": [
    "### Задание\n",
    "\n",
    "Переименуйте индексы и колонки во фрейме"
   ]
  },
  {
   "cell_type": "code",
   "execution_count": null,
   "metadata": {
    "colab": {
     "base_uri": "https://localhost:8080/",
     "height": 204
    },
    "id": "8ItPTn_887Sc",
    "outputId": "316a0377-1531-4c23-c144-f80b7552631f"
   },
   "outputs": [],
   "source": [
    "import pandas as pd\n",
    "import numpy as np\n",
    "\n",
    "df = pd.DataFrame(\n",
    "    data=np.random.randint(0, 10, size=(5, 3)), \n",
    "    index=['A', 'B', 'C', 'D', 'E'], \n",
    "    columns=['x1', 'x2', 'x3']\n",
    ")\n",
    "df"
   ]
  },
  {
   "cell_type": "code",
   "execution_count": null,
   "metadata": {
    "colab": {
     "base_uri": "https://localhost:8080/",
     "height": 204
    },
    "id": "wHgJGm0A9Jib",
    "outputId": "f1aaecfc-7897-403b-97b8-ad90de6eed4f"
   },
   "outputs": [],
   "source": [
    "# TODO - переименуйте индексы [A, C] -> [indA, indC] \n",
    "#           и колонки [x1, x3] -> [new1, new3]\n",
    "df.rename(\n",
    "    index={\n",
    "        'A': 'indA',\n",
    "        'C': 'indC',\n",
    "    },\n",
    "    columns={\n",
    "        'x1': 'new1',\n",
    "        'x3': 'new3',\n",
    "    },\n",
    "    inplace=True\n",
    ")\n",
    "df"
   ]
  },
  {
   "cell_type": "markdown",
   "metadata": {
    "id": "PIxEiYeA7fCT"
   },
   "source": [
    "## Удаление колонок / строк\n",
    "\n",
    "Данную операцию можно произвести двумя способами:\n",
    "1. Выбрать колонки, которые необходимо оставить, простой индексацией;\n",
    "2. Метод `DataFrame.drop()`."
   ]
  },
  {
   "cell_type": "code",
   "execution_count": null,
   "metadata": {
    "colab": {
     "base_uri": "https://localhost:8080/",
     "height": 142
    },
    "id": "614A8LHV7t7d",
    "outputId": "d5e4e6b8-83c9-4d0e-b563-90f2e34fa9ad"
   },
   "outputs": [],
   "source": [
    "df = pd.DataFrame(\n",
    "    data=np.random.randint(0, 10, size=(15, 3)), \n",
    "    columns=['x1', 'x2', 'x3']\n",
    ")\n",
    "df.head(3)"
   ]
  },
  {
   "cell_type": "code",
   "execution_count": null,
   "metadata": {
    "colab": {
     "base_uri": "https://localhost:8080/",
     "height": 142
    },
    "id": "RpIHpNdd94Sl",
    "outputId": "ceb660b7-d521-471b-bf62-1b90e595c279"
   },
   "outputs": [],
   "source": [
    "df.drop(columns=['x2'], inplace=True)\n",
    "df.head(3)"
   ]
  },
  {
   "cell_type": "markdown",
   "metadata": {
    "id": "2jgzUMWxJO6N"
   },
   "source": [
    "## Определение количества NaN"
   ]
  },
  {
   "cell_type": "markdown",
   "metadata": {
    "id": "ymvbguTYJUhn"
   },
   "source": [
    "В данных часто бывают пропуски (NaN), при этом на первых этапах анализа важно понять их количество по каждому признаку. Для этого можно воспользоваться методом `DataFrame.isna()`, который создаст двумерный булевый фрейм, отвечающий на вопрос \"является ли значение NaN?\". После этого над всем фреймом можно применить метод `DataFrame.sum()`, который вернет ряд (Series) с количеством элементов True в булевом фрейме (элементов NaN в основном фрейме)."
   ]
  },
  {
   "cell_type": "code",
   "execution_count": null,
   "metadata": {
    "colab": {
     "base_uri": "https://localhost:8080/",
     "height": 204
    },
    "id": "u6ySClv7KEUo",
    "outputId": "65e4d492-46ea-4a7c-8a58-7ac08c401728"
   },
   "outputs": [],
   "source": [
    "df = pd.DataFrame(\n",
    "    data=np.random.randint(0, 10, size=(5, 3)), \n",
    "    columns=['x1', 'x2', 'x3']\n",
    ")\n",
    "df.iloc[0, :2] = np.nan\n",
    "df.iloc[2, 1:] = np.nan\n",
    "\n",
    "df"
   ]
  },
  {
   "cell_type": "code",
   "execution_count": null,
   "metadata": {
    "colab": {
     "base_uri": "https://localhost:8080/",
     "height": 204
    },
    "id": "OYFxtfNQKRkq",
    "outputId": "1b55cfb6-bd8d-4c47-d272-e186c0a72628"
   },
   "outputs": [],
   "source": [
    "df.isna()"
   ]
  },
  {
   "cell_type": "code",
   "execution_count": null,
   "metadata": {
    "colab": {
     "base_uri": "https://localhost:8080/"
    },
    "id": "FMmdpRcUKTsT",
    "outputId": "8cd1e076-4994-4917-ed0a-153077c6b940"
   },
   "outputs": [],
   "source": [
    "df.isna().sum()"
   ]
  },
  {
   "cell_type": "markdown",
   "metadata": {
    "id": "DE4eBYciLiHc"
   },
   "source": [
    "## Заполнение пустых значений"
   ]
  },
  {
   "cell_type": "markdown",
   "metadata": {
    "id": "159PGj1jLkeX"
   },
   "source": [
    "Техники заполнения пустых значений имеют разнообразное представление, но одним из простых методов является заполнение константой. Для этого ряд данных имеет метод `Series.fillna()`, в который можно передать значение и вместо NaN элементов будет поставлена константа, указанная в аргументах."
   ]
  },
  {
   "cell_type": "code",
   "execution_count": null,
   "metadata": {
    "colab": {
     "base_uri": "https://localhost:8080/",
     "height": 204
    },
    "id": "rVrv2pvGL7FT",
    "outputId": "6a747f4f-1c0e-4d16-e52c-393769a48ae7"
   },
   "outputs": [],
   "source": [
    "df"
   ]
  },
  {
   "cell_type": "code",
   "execution_count": null,
   "metadata": {
    "colab": {
     "base_uri": "https://localhost:8080/",
     "height": 204
    },
    "id": "CNEGPZRnL9Ji",
    "outputId": "580be185-1e2b-4368-f50e-3ab94e3a048e"
   },
   "outputs": [],
   "source": [
    "df['x2'].fillna(3, inplace=True)\n",
    "df"
   ]
  },
  {
   "cell_type": "markdown",
   "metadata": {
    "id": "qMLVYwcAsjv8"
   },
   "source": [
    "## Информация об уникальных значениях\n",
    "\n"
   ]
  },
  {
   "cell_type": "markdown",
   "metadata": {
    "id": "CA1B55wAson8"
   },
   "source": [
    "При работе с категориальными данными полезна информация об уникальных значения признака, поэтому важно понимать, как проверить их количество:"
   ]
  },
  {
   "cell_type": "code",
   "execution_count": null,
   "metadata": {
    "colab": {
     "base_uri": "https://localhost:8080/",
     "height": 359
    },
    "id": "ipzBgmO-soWq",
    "outputId": "20430f2f-5c02-4a77-bcf2-998a6f444c7d"
   },
   "outputs": [],
   "source": [
    "df = pd.DataFrame({\n",
    "    'col1': ['high', 'high', 'low', 'med', 'low', 'low', 'med', 'low', 'low', 'high'],\n",
    "    'col2': [0, 1, 1, 2, 3, 1, 1, 2, 2, 2]\n",
    "})\n",
    "df"
   ]
  },
  {
   "cell_type": "code",
   "execution_count": null,
   "metadata": {
    "colab": {
     "base_uri": "https://localhost:8080/"
    },
    "id": "GQZBjAektbHR",
    "outputId": "217dee1b-39dd-4902-ee26-8f808846aee6"
   },
   "outputs": [],
   "source": [
    "# Метод DataFrame.nunique() позволяет вывести \n",
    "#   количество уникальных значений в каждой колонке\n",
    "# Результат - Series с индексами - названиями колонок\n",
    "df.nunique()"
   ]
  },
  {
   "cell_type": "code",
   "execution_count": null,
   "metadata": {
    "colab": {
     "base_uri": "https://localhost:8080/"
    },
    "id": "w2Ffo-nHtvaq",
    "outputId": "a675b63b-161a-48af-ca83-fa9376f6b04d"
   },
   "outputs": [],
   "source": [
    "# Метод Series.value_counts() показывает уникальные значения в ряду\n",
    "#   и указывает их количество\n",
    "df['col1'].value_counts()"
   ]
  },
  {
   "cell_type": "code",
   "execution_count": null,
   "metadata": {
    "colab": {
     "base_uri": "https://localhost:8080/"
    },
    "id": "5IQjN3OCt7Hs",
    "outputId": "8fcf4016-6f5a-4050-d6cd-a9d98eac178c"
   },
   "outputs": [],
   "source": [
    "# Результат - Series с индексами - уникальными значениями\n",
    "df['col2'].value_counts()"
   ]
  },
  {
   "cell_type": "markdown",
   "metadata": {
    "id": "7u9_i7LXTuHm"
   },
   "source": [
    "## Фильтрация"
   ]
  },
  {
   "cell_type": "markdown",
   "metadata": {
    "id": "uosoHO-Sokh8"
   },
   "source": [
    "Метод `DataFrame.filter()` позволяет отфильтровать и выбрать только те колонки/записи, котрые соответсвуют условию, заданному в аргументах:"
   ]
  },
  {
   "cell_type": "code",
   "execution_count": null,
   "metadata": {
    "colab": {
     "base_uri": "https://localhost:8080/",
     "height": 111
    },
    "id": "rzgkdyi0opus",
    "outputId": "153240e1-2af0-4089-a80b-4eedaa2d8cb6"
   },
   "outputs": [],
   "source": [
    "df = pd.DataFrame(np.array(([1, 2, 3], [4, 5, 6])),\n",
    "                  index=['mouse', 'rabbit'],\n",
    "                  columns=['col_one', 'col_two', 'col_three'])\n",
    "df"
   ]
  },
  {
   "cell_type": "code",
   "execution_count": null,
   "metadata": {
    "colab": {
     "base_uri": "https://localhost:8080/",
     "height": 111
    },
    "id": "vYYUgNBRottW",
    "outputId": "e0396b43-de16-438d-bc9e-4879b076ad0e"
   },
   "outputs": [],
   "source": [
    "# Отфильтровать по именам колонок\n",
    "# Аналогично df[['col_one', 'col_three']]\n",
    "df.filter(items=['col_one', 'col_three'], axis='columns')"
   ]
  },
  {
   "cell_type": "code",
   "execution_count": null,
   "metadata": {
    "colab": {
     "base_uri": "https://localhost:8080/",
     "height": 111
    },
    "id": "a6ofBx49pYSq",
    "outputId": "dcc99eb8-5a69-4889-f1f9-2fdbf4024463"
   },
   "outputs": [],
   "source": [
    "# Отфильтровать по регулярному выражению\n",
    "# Оставить только те колонки, которые оканчиваются на букву \"o\"\n",
    "df.filter(regex='o$', axis='columns')"
   ]
  },
  {
   "cell_type": "markdown",
   "metadata": {
    "id": "YqiHEBFbptwT"
   },
   "source": [
    "### Задание\n",
    "\n",
    "Отфильруйте записи по строке, содержащейся в имени индекса (аргумент `like`):"
   ]
  },
  {
   "cell_type": "code",
   "execution_count": null,
   "metadata": {
    "colab": {
     "base_uri": "https://localhost:8080/",
     "height": 142
    },
    "id": "bpguGOH1p6Ju",
    "outputId": "b9f4ecb4-7ad3-4332-a161-b05328b792b2"
   },
   "outputs": [],
   "source": [
    "df = pd.DataFrame(np.array(([1, 2, 3], [4, 5, 6], [7, 8, 9])),\n",
    "                  index=['dog in house', 'cat in house', 'pig in farm'],\n",
    "                  columns=['x1', 'x2', 'x3'])\n",
    "df"
   ]
  },
  {
   "cell_type": "code",
   "execution_count": null,
   "metadata": {
    "colab": {
     "base_uri": "https://localhost:8080/",
     "height": 111
    },
    "id": "-yGYrEPCqJMl",
    "outputId": "1213e6d0-d088-4e1c-ab85-67fc1743cf6c"
   },
   "outputs": [],
   "source": [
    "# TODO - отфильтруйте по записям, должны остаться записи, \n",
    "#           индекс которых содержит слово \"house\"\n",
    "df.filter(regex='house', axis='index')"
   ]
  },
  {
   "cell_type": "markdown",
   "metadata": {
    "id": "b-YLfI7_T--K"
   },
   "source": [
    "## Сортировка"
   ]
  },
  {
   "cell_type": "markdown",
   "metadata": {
    "id": "cRGU2oQcqiAD"
   },
   "source": [
    "Всегда полезно знать, как отсортировать данные, для этого мы воспользуемся методом `DataFrame.sort_values()`:"
   ]
  },
  {
   "cell_type": "code",
   "execution_count": null,
   "metadata": {
    "colab": {
     "base_uri": "https://localhost:8080/",
     "height": 235
    },
    "id": "-7UkJ8_nq6vQ",
    "outputId": "d14c131c-fd4e-4bca-b69c-be3f243318cb"
   },
   "outputs": [],
   "source": [
    "df = pd.DataFrame({\n",
    "    'col1': ['A', 'A', 'B', np.nan, 'D', 'C'],\n",
    "    'col2': [2, 1, 9, 8, 7, 4],\n",
    "    'col3': [0, 1, 9, 4, 2, 3],\n",
    "    'col4': ['a', 'B', 'c', 'D', 'e', 'F']\n",
    "}, index=['A', 'B', 'C', 'D', 'E', 'F'])\n",
    "df"
   ]
  },
  {
   "cell_type": "code",
   "execution_count": null,
   "metadata": {
    "colab": {
     "base_uri": "https://localhost:8080/",
     "height": 235
    },
    "id": "RDgqmbx0rEUl",
    "outputId": "cbbfea8f-4bf5-41a9-b734-2570784e2719"
   },
   "outputs": [],
   "source": [
    "# Отсортируем записи колонки col2\n",
    "# Именно поэтому в axis ставится rows, так как\n",
    "#   операция производится в колонке по каждому ряду\n",
    "df.sort_values(by='col2', axis='rows')"
   ]
  },
  {
   "cell_type": "markdown",
   "metadata": {
    "id": "yLlPKSRArVGN"
   },
   "source": [
    "### Задание\n",
    "\n",
    "Отсортируйте данные:"
   ]
  },
  {
   "cell_type": "code",
   "execution_count": null,
   "metadata": {
    "colab": {
     "base_uri": "https://localhost:8080/",
     "height": 204
    },
    "id": "5t5K1QlBr00d",
    "outputId": "5523a33c-6fa5-4e94-e760-d111aed07df5"
   },
   "outputs": [],
   "source": [
    "df = pd.DataFrame(\n",
    "    np.random.randint(0, 20, size=(5, 5)), \n",
    "    columns=['col1', 'col2', 'col3', 'col4', 'col5']\n",
    ")\n",
    "df"
   ]
  },
  {
   "cell_type": "code",
   "execution_count": null,
   "metadata": {
    "colab": {
     "base_uri": "https://localhost:8080/",
     "height": 204
    },
    "id": "SEHuw4hJsoUP",
    "outputId": "69e53e26-4445-4670-d6da-e2f4c9d18a54"
   },
   "outputs": [],
   "source": [
    "# TODO - отсортируйте данные индекса 3 по убыванию\n",
    "df.sort_values(by='col3', axis='rows', ascending=False)"
   ]
  },
  {
   "cell_type": "markdown",
   "metadata": {
    "id": "1NiNk_Z4swrf"
   },
   "source": [
    "## Разделение данных на категории"
   ]
  },
  {
   "cell_type": "markdown",
   "metadata": {
    "id": "GqVFtAOws2vY"
   },
   "source": [
    "В ходе работы с данными часто бывает необходимо диапазон числовой переменной разбить на несколько групп (категорий). Например, заменить числовой диапазон температур воды $[-10; 60]$ на три категории $[низкая, средняя, высокая]$. Для таких целей используется функция `pd.cut()`:"
   ]
  },
  {
   "cell_type": "code",
   "execution_count": null,
   "metadata": {
    "colab": {
     "base_uri": "https://localhost:8080/",
     "height": 204
    },
    "id": "RMGX8awRtsQb",
    "outputId": "3f6f13c3-059c-439a-9c26-bb0a1532a8e5"
   },
   "outputs": [],
   "source": [
    "df = pd.DataFrame({\n",
    "    'temp': [59, 22, -10, 38, 20, 40, 38, 47, 20, 15, 13, 44, 57, 32, 38]\n",
    "})\n",
    "df.head()"
   ]
  },
  {
   "cell_type": "code",
   "execution_count": null,
   "metadata": {
    "colab": {
     "base_uri": "https://localhost:8080/",
     "height": 204
    },
    "id": "8s2DpnH8uPPI",
    "outputId": "ef3f63fe-a8d6-4fbc-f0ef-b161b014f89f"
   },
   "outputs": [],
   "source": [
    "# Можно задать свои границы диапазона и названия категорий\n",
    "# Если планируется три категории, то границ должно быть на одну больше - \n",
    "#   так задаются диапазоны для категорий\n",
    "df['temp_cat'] = pd.cut(\n",
    "    x=df['temp'],\n",
    "    bins=[-10, 10, 25, 60],\n",
    "    labels=['low', 'medium', 'high'],\n",
    "    # Флаг, чтобы самое левое значение границы входило в первый диапазон\n",
    "    include_lowest=True\n",
    ")\n",
    "df.head()"
   ]
  },
  {
   "cell_type": "code",
   "execution_count": null,
   "metadata": {
    "colab": {
     "base_uri": "https://localhost:8080/"
    },
    "id": "xq8zAyhSvIh-",
    "outputId": "e2457d3b-f045-45f8-9696-bb4cd799b521"
   },
   "outputs": [],
   "source": [
    "# Результат разделения имеет категориальный тип\n",
    "df['temp_cat'].dtype"
   ]
  },
  {
   "cell_type": "code",
   "execution_count": null,
   "metadata": {
    "colab": {
     "base_uri": "https://localhost:8080/"
    },
    "id": "er1CIaTvvTAY",
    "outputId": "231588a5-c3ba-4fb0-f750-f5fb55ea3eda"
   },
   "outputs": [],
   "source": [
    "# Можно не задавать имена категориям, тогда он сам их назовет\n",
    "result_after_cut = pd.cut(\n",
    "    x=df['temp'],\n",
    "    bins=[-10, 10, 25, 60],\n",
    "    include_lowest=True\n",
    ")\n",
    "# Взглянем на имена\n",
    "result_after_cut.unique()"
   ]
  },
  {
   "cell_type": "code",
   "execution_count": null,
   "metadata": {
    "colab": {
     "base_uri": "https://localhost:8080/"
    },
    "id": "t_3YYiaWwKZB",
    "outputId": "a9e1d24c-6076-496e-e34b-44e9ac2bcd11"
   },
   "outputs": [],
   "source": [
    "# Можно не задавать границы, лишь количество категорий - \n",
    "#   разделение будет на категории с одинаковой шириной диапазонов\n",
    "result_after_cut = pd.cut(\n",
    "    x=df['temp'],\n",
    "    bins=3\n",
    ")\n",
    "result_after_cut.unique()"
   ]
  },
  {
   "cell_type": "markdown",
   "metadata": {
    "id": "iXKi1PEJxin2"
   },
   "source": [
    "### Задание\n",
    "\n",
    "Разделите показатель качества в диапазоне $[0, 100]$ на три группы: плохое $[0-20]$, среднее $(20-45]$, хорошее $(45-85]$, отличное $(85-100]$. Выясните, что происходит со значениями, которые не попадают в диапазоны категорий:"
   ]
  },
  {
   "cell_type": "code",
   "execution_count": null,
   "metadata": {
    "colab": {
     "base_uri": "https://localhost:8080/",
     "height": 204
    },
    "id": "Z1zFynfFyiZk",
    "outputId": "5dad2b78-fa6d-4a61-a969-f7af7feca163"
   },
   "outputs": [],
   "source": [
    "import pandas as pd\n",
    "import numpy as np\n",
    "\n",
    "df = pd.DataFrame({\n",
    "    'quality': [ 7, 67, 21, 38,  2, -2, 79, 22,  5, 31, 77, 72, 23, 64, 99]\n",
    "})\n",
    "df.head()"
   ]
  },
  {
   "cell_type": "code",
   "execution_count": null,
   "metadata": {
    "colab": {
     "base_uri": "https://localhost:8080/",
     "height": 514
    },
    "id": "AYlnGVTGyxWh",
    "outputId": "381511e8-a829-4a67-8dca-c587808de222"
   },
   "outputs": [],
   "source": [
    "# TODO - разделите данные на категории\n",
    "# TODO - определите, какие записи не имеют категорий и почему\n",
    "df['quality_1']=pd.cut(\n",
    "    x=df['quality'],\n",
    "    bins=[0, 20, 45, 85, 100],\n",
    "    labels=['плохое', 'среднее', 'хорошее', 'отличное'],\n",
    "    include_lowest=True\n",
    ")\n",
    "df"
   ]
  },
  {
   "cell_type": "markdown",
   "metadata": {
    "id": "Bmguv4P80S4s"
   },
   "source": [
    "## Агрегация данных"
   ]
  },
  {
   "cell_type": "markdown",
   "metadata": {
    "id": "pGSptZbq0Vn7"
   },
   "source": [
    "Агрегация данных - объединение группы данных для получения информации. Примерами операций аргегации являются: сумма, среднее, максимум, минимум.\n",
    "\n",
    "В pandas агрегация может быть выполнена путем метода `DataFrame.aggregate()`:"
   ]
  },
  {
   "cell_type": "code",
   "execution_count": null,
   "metadata": {
    "colab": {
     "base_uri": "https://localhost:8080/",
     "height": 173
    },
    "id": "Op1RTE8P1UCT",
    "outputId": "4bdd9315-8a28-41f1-e540-20f052403308"
   },
   "outputs": [],
   "source": [
    "df = pd.DataFrame([[1, 2, 3],\n",
    "                   [4, 5, 6],\n",
    "                   [7, 8, 9],\n",
    "                   [np.nan, np.nan, np.nan]],\n",
    "                  columns=['A', 'B', 'C'])\n",
    "df"
   ]
  },
  {
   "cell_type": "code",
   "execution_count": null,
   "metadata": {
    "colab": {
     "base_uri": "https://localhost:8080/",
     "height": 111
    },
    "id": "7WW-Y5fG1ozf",
    "outputId": "d8f29472-d50d-439c-e8ec-d31231f6a1bb"
   },
   "outputs": [],
   "source": [
    "# Получим значения минимумов и средних по всем колонкам\n",
    "# Принцип аналогичен операциям в numpy - \n",
    "#   для агрегации по колонка операция должна пройти по рядам,\n",
    "#   соответсвенно, axis='rows'\n",
    "df.aggregate(['min', 'mean'], axis='rows')"
   ]
  },
  {
   "cell_type": "code",
   "execution_count": null,
   "metadata": {
    "colab": {
     "base_uri": "https://localhost:8080/",
     "height": 173
    },
    "id": "4xER9_e_2BdW",
    "outputId": "84d138c0-4df8-452f-d8b5-5308270cbda8"
   },
   "outputs": [],
   "source": [
    "# Зададим правила агрегации для каждой колонки\n",
    "# Операции можно задавать строками или функциями numpy\n",
    "df.aggregate({\n",
    "    'A': ['sum', 'min'],\n",
    "    'B': ['max', 'min'],\n",
    "    'C': [np.sum, np.mean],\n",
    "})"
   ]
  },
  {
   "cell_type": "markdown",
   "metadata": {
    "id": "yGZz-fgz2iR0"
   },
   "source": [
    "### Задание\n",
    "\n",
    "Произведите агрегацию средним по рядам"
   ]
  },
  {
   "cell_type": "code",
   "execution_count": null,
   "metadata": {
    "colab": {
     "base_uri": "https://localhost:8080/",
     "height": 142
    },
    "id": "19vF30JF2pu_",
    "outputId": "ec0e27ee-60b7-4ebb-b667-ccad8e8d0524"
   },
   "outputs": [],
   "source": [
    "df = pd.DataFrame(\n",
    "    ([1, 2, 3], [4, 5, 6], [7, 8, 9]), \n",
    "    columns=['x1', 'x2', 'x3'])\n",
    "df"
   ]
  },
  {
   "cell_type": "code",
   "execution_count": null,
   "metadata": {
    "colab": {
     "base_uri": "https://localhost:8080/",
     "height": 80
    },
    "id": "NCi-jyrA20b5",
    "outputId": "473b6f19-4bfc-4b4c-86fb-0034562875b9"
   },
   "outputs": [],
   "source": [
    "# TODO - произведите агрегацию по рядам (найти среднее)\n",
    "df.aggregate(['mean'], axis='rows')"
   ]
  },
  {
   "cell_type": "markdown",
   "metadata": {
    "id": "C12HB8hxuHi7"
   },
   "source": [
    "## Группировки"
   ]
  },
  {
   "cell_type": "markdown",
   "metadata": {
    "id": "jSyxFTtFue8h"
   },
   "source": [
    "Игры закончились - начались серьезные вещи. Группировки это один из сильнейших инструментов, которые позволяют вытаскивать из данных полезную информацию!\n",
    "\n",
    "Для понимания разберем пример: допустим, у нас есть база данных студентов с 1 по 4 курсы. Одна из колонок будет иметь в качестве значения номер курса и так как количество допустимых значений ограничено - то правильно считать эту колонку категориальной. Другая колонка - оценка за общий университетский тест (все курсы его проходили). Третьей колонкой будет время выполнения:"
   ]
  },
  {
   "cell_type": "code",
   "execution_count": null,
   "metadata": {
    "colab": {
     "base_uri": "https://localhost:8080/",
     "height": 328
    },
    "id": "gj4gFhFpxmuq",
    "outputId": "1104e56a-d9fe-4de3-dfdb-1ffcbea41f7e"
   },
   "outputs": [],
   "source": [
    "data = [\n",
    "    [1, 4.7, 60],\n",
    "    [3, 4.5, 45],\n",
    "    [4, 4.8, 40],\n",
    "    [1, 4.9, 58],\n",
    "    [2, 4.1, 50],\n",
    "    [2, 4.2, 49],\n",
    "    [2, 4.4, 49],\n",
    "    [3, 4.9, 46],\n",
    "    [4, 4.3, 33],\n",
    "]\n",
    "\n",
    "stud_df = pd.DataFrame(data, columns=['Grade', 'Test_Mark', 'Time'])\n",
    "stud_df"
   ]
  },
  {
   "cell_type": "markdown",
   "metadata": {
    "id": "REtVnk-JyEbH"
   },
   "source": [
    "Теперь представим, что мы сложим каждый курс в свою корзинку путем группировки:\n"
   ]
  },
  {
   "cell_type": "code",
   "execution_count": null,
   "metadata": {
    "colab": {
     "base_uri": "https://localhost:8080/"
    },
    "id": "Cv2ttcWmyO_8",
    "outputId": "766d996d-bdc7-47a1-e6f0-8c6d5a56e785"
   },
   "outputs": [],
   "source": [
    "gr_stud_df = stud_df.groupby(by='Grade')\n",
    "\n",
    "# Тип результата - pd.DataFrameGroupBy\n",
    "print(type(gr_stud_df))\n",
    "\n",
    "# Таким образом увидим словарь:\n",
    "#   Ключи - названия групп\n",
    "#   Значения - индексы из данных для группы\n",
    "gr_stud_df.groups"
   ]
  },
  {
   "cell_type": "markdown",
   "metadata": {
    "id": "qA5LXUaEys_8"
   },
   "source": [
    "После того, как мы сложили записи по группам, мы можем вычислить, например, среднее значение в каждой группе:"
   ]
  },
  {
   "cell_type": "code",
   "execution_count": null,
   "metadata": {
    "colab": {
     "base_uri": "https://localhost:8080/",
     "height": 204
    },
    "id": "akIG2VcFy1Mq",
    "outputId": "543fcda8-96b0-4378-d65d-9555ef6cd919"
   },
   "outputs": [],
   "source": [
    "gr_stud_df.agg('mean')"
   ]
  },
  {
   "cell_type": "markdown",
   "metadata": {
    "id": "243rNrpUzHvL"
   },
   "source": [
    "В результате, мы смогли вычислить среднюю оценку за тест по каждому курсу! И для этого нам потребовалось всего два метода! Ручным вариантом нам бы пришлось создавать контейнеры, складывать в них значения и потом вычислять средние значения..."
   ]
  },
  {
   "cell_type": "markdown",
   "metadata": {
    "id": "_4axNP1MzP7u"
   },
   "source": [
    "Резюмируя, группировка - это размещение данных по группам уникальных значений признака, по которому группируется. После группировки можно произвести агрегацию данных в каждой группе."
   ]
  },
  {
   "cell_type": "code",
   "execution_count": null,
   "metadata": {
    "colab": {
     "base_uri": "https://localhost:8080/",
     "height": 235
    },
    "id": "1RjQadBi3XYL",
    "outputId": "2daa6fe5-ddf1-4274-b9ca-3f2efe45f4c8"
   },
   "outputs": [],
   "source": [
    "# Более сложный вариант - найдем средние и минимальные время и оценку \n",
    "\n",
    "gr_stud_df.agg(['mean', 'min'])"
   ]
  },
  {
   "cell_type": "code",
   "execution_count": null,
   "metadata": {
    "colab": {
     "base_uri": "https://localhost:8080/",
     "height": 253
    },
    "id": "9SEk__CQ4wtP",
    "outputId": "d167e823-27c2-4162-d525-887b984d9198"
   },
   "outputs": [],
   "source": [
    "# Или зададим правила для каждого признака по отдельности\n",
    "\n",
    "res = gr_stud_df.agg({\n",
    "    'Test_Mark': ['mean', 'min'],\n",
    "    'Time': ['min']\n",
    "})\n",
    "\n",
    "print(type(res))\n",
    "res"
   ]
  },
  {
   "cell_type": "code",
   "execution_count": null,
   "metadata": {
    "colab": {
     "base_uri": "https://localhost:8080/"
    },
    "id": "T78u8tYt6Kn6",
    "outputId": "93e577a2-d22d-459c-c3da-4c889a5ee5c5"
   },
   "outputs": [],
   "source": [
    "# Для обращения к данным просто используем несколько индексов, \n",
    "#   так как это DataFrame\n",
    "res['Test_Mark']['mean']"
   ]
  },
  {
   "cell_type": "markdown",
   "metadata": {
    "id": "D0WysErg5FyX"
   },
   "source": [
    "### Задание\n",
    "\n",
    "Сгруппируйте данные по признаку x2 и найдите медиану и максимальное значения по признакам x1, x3:"
   ]
  },
  {
   "cell_type": "code",
   "execution_count": null,
   "metadata": {
    "colab": {
     "base_uri": "https://localhost:8080/",
     "height": 204
    },
    "id": "inrIEOBN7tIJ",
    "outputId": "f815471b-7d4d-4f29-c7a7-099b405ae0ba"
   },
   "outputs": [],
   "source": [
    "import pandas as pd\n",
    "import numpy as np\n",
    "\n",
    "df = pd.DataFrame({\n",
    "    'x1': np.random.randint(10, 100, size=(200, )),\n",
    "    'x2': np.random.choice(['low', 'high', 'medium'], size=(200, )),\n",
    "    'x3': np.random.randint(-20, 30, size=(200, )),\n",
    "})\n",
    "df.head()"
   ]
  },
  {
   "cell_type": "code",
   "execution_count": null,
   "metadata": {
    "colab": {
     "base_uri": "https://localhost:8080/",
     "height": 204
    },
    "id": "s9YIb62P8NZR",
    "outputId": "ea197c4d-8db7-4665-aef1-e97bffb2fdc6"
   },
   "outputs": [],
   "source": [
    "# TODO - произведите групировку данных\n",
    "#           и получите средние и максимальные значения по каждой группе\n",
    "gr_df_x2=df.groupby(by='x2')\n",
    "#gr_df_x2.groups\n",
    "res = gr_df_x2.agg(['mean','max', 'median'])\n",
    "res.head()"
   ]
  },
  {
   "cell_type": "markdown",
   "metadata": {
    "id": "QoA5WcSp_1am"
   },
   "source": [
    "# Сохранение / загрузка данных (работа с CSV)"
   ]
  },
  {
   "cell_type": "markdown",
   "metadata": {
    "id": "FRzJjPfe_55Q"
   },
   "source": [
    "Одним из важных инструментов в работе с таблицами является возможность сохранить результаты работы в файл или загрузить данные из файла. Пользоваться мы будем форматом CSV, который является текстовым форматом для хранения таблицы. Формат представляет собой текстовые строки, каждая колонка разделяется разделителем (запятая, точка запятой и др.), поэтому его просто понять и обрабатывать, так как не требуется никакого специального протокола для понимания.\n",
    "\n",
    "Для сохранения данных имеется метод `DataFrame.to_csv()`:"
   ]
  },
  {
   "cell_type": "code",
   "execution_count": null,
   "metadata": {
    "colab": {
     "base_uri": "https://localhost:8080/",
     "height": 142
    },
    "id": "DmYMxecrAq10",
    "outputId": "6b83625c-3cda-4957-8b27-b5562f61b8f6"
   },
   "outputs": [],
   "source": [
    "import string\n",
    "\n",
    "df = pd.DataFrame(\n",
    "    data=np.random.randint(0, 10, size=(15, 3)), \n",
    "    columns=['x1', 'x2', 'x3'],\n",
    "    index=list(string.ascii_uppercase)[:15]\n",
    ")\n",
    "df.head(3)"
   ]
  },
  {
   "cell_type": "code",
   "execution_count": null,
   "metadata": {
    "id": "KMNVroGbA7Vw"
   },
   "outputs": [],
   "source": [
    "# Для сохранения задается путь до файла\n",
    "df.to_csv('my_first_file.csv')"
   ]
  },
  {
   "cell_type": "markdown",
   "metadata": {
    "id": "s8k6zkCrBgJf"
   },
   "source": [
    "Чтобы убедиться в работе метода найдите файл рядом с ноутбуком и откройте его через редактор.\n",
    "\n",
    "> При работе в Google Colab слева есть вкладка, которая показывает файлы на сервере.\n",
    "\n",
    "При открытии можно увидеть четыре колонки:\n",
    "- Колонка индекса;\n",
    "- Три колонки из наших данных.\n",
    "\n",
    "Теперь, когда мы имеем файл CSV в системе - можем испытать функцию загрузки `pd.read_csv()`:"
   ]
  },
  {
   "cell_type": "code",
   "execution_count": null,
   "metadata": {
    "colab": {
     "base_uri": "https://localhost:8080/",
     "height": 142
    },
    "id": "Hu1Cn2dAAtZE",
    "outputId": "bad98fa2-7e55-46ec-a852-37260afe0e6c"
   },
   "outputs": [],
   "source": [
    "df = pd.read_csv('my_first_file.csv')\n",
    "df.head(3)"
   ]
  },
  {
   "cell_type": "markdown",
   "metadata": {
    "id": "826nsjTTDELg"
   },
   "source": [
    "Видна одна явная проблема - у нас появилась колонка, которая должна быть индексом, но она стала новой колонкой, а индексы создались новые. Для решения проблемы при загрузке необходимо явно задать, какая колонка считается индексом:"
   ]
  },
  {
   "cell_type": "code",
   "execution_count": null,
   "metadata": {
    "colab": {
     "base_uri": "https://localhost:8080/",
     "height": 142
    },
    "id": "4ro4a8XQD7NU",
    "outputId": "894a099c-8995-4cd4-aedd-5331973307fe"
   },
   "outputs": [],
   "source": [
    "df = pd.read_csv('my_first_file.csv', index_col=0)\n",
    "df.head(3)"
   ]
  },
  {
   "cell_type": "markdown",
   "metadata": {
    "id": "VvNbDFPlD-kK"
   },
   "source": [
    "Теперь все отлично и данные загрузились так, как они должны быть."
   ]
  },
  {
   "cell_type": "markdown",
   "metadata": {
    "id": "iji4lnn2DRrF"
   },
   "source": [
    "## Задание\n",
    "\n",
    "Разберитесь в аргументах `DataFrame.to_csv()` и сохраните данные в файл так, чтобы в файл индекс не сохранялся."
   ]
  },
  {
   "cell_type": "code",
   "execution_count": null,
   "metadata": {
    "colab": {
     "base_uri": "https://localhost:8080/"
    },
    "id": "QmxqqhksDdZz",
    "outputId": "2d50adeb-964b-43e9-da03-f256998d574b"
   },
   "outputs": [],
   "source": [
    "import pandas as pd\n",
    "import numpy as np\n",
    "import string\n",
    "\n",
    "df = pd.DataFrame(\n",
    "    data=np.random.randint(0, 10, size=(15, 3)), \n",
    "    columns=['x1', 'x2', 'x3'],\n",
    "    index=list(string.ascii_uppercase)[:15]\n",
    ")\n",
    "print(df.head(3))\n",
    "\n",
    "# TODO - сохранить в файл no_index.csv без индексов\n",
    "df.to_csv('my_first_file2.csv',index=0)\n",
    "df = pd.read_csv('my_first_file2.csv')\n",
    "print('----------')\n",
    "print(df.head(3))"
   ]
  },
  {
   "cell_type": "markdown",
   "metadata": {
    "id": "irt2kdlT1Y5g"
   },
   "source": [
    "# Задачки\n"
   ]
  },
  {
   "cell_type": "markdown",
   "metadata": {
    "id": "ia4T__g3U7JG"
   },
   "source": [
    "Создайте фрейм с тремя колонками:\n",
    "- Колонка с именами (тип - объекты);\n",
    "- Колонка с стажем работы (тип - вещественный);\n",
    "- Колонка с возрастом (тип - целочисленный);\n",
    "- Колонка с названием любимого цвета (тип - категориальный);\n",
    "\n",
    "Имена колонок и значения любые, не менее трех записей (строк) в фрейме."
   ]
  },
  {
   "cell_type": "code",
   "execution_count": null,
   "metadata": {
    "colab": {
     "base_uri": "https://localhost:8080/"
    },
    "id": "gjI5Zey31Ntq",
    "outputId": "6a5254b4-96f3-4581-88ab-ae1df96efc03"
   },
   "outputs": [],
   "source": [
    "import pandas as pd\n",
    "import numpy as np\n",
    "# TODO - создайте фрейм и настройте правильные типы колонок\n",
    "#           DataFrame.info() дожен отображать указанные типы\n",
    "data = {\n",
    "    'имя': ['A', 'B', 'C', 'D'],\n",
    "    'стаж работы': [1.1, 2.2, 3.3, 4.4],\n",
    "    'возрост': [20, 21, 22, 23],\n",
    "    'название любимого цвета': pd.Categorical(['r', 'b', 'k', 'w'])\n",
    "}\n",
    "df=pd.DataFrame(data)\n",
    "print(df.head())\n",
    "df.info()"
   ]
  },
  {
   "cell_type": "markdown",
   "metadata": {
    "id": "Mq_Iapt6Wuzq"
   },
   "source": [
    "Выберите числа в ряду `ds1`, которых нет в ряду `ds2`:\n",
    "\n",
    "> Почитайте и примение метод `Series.isin()`"
   ]
  },
  {
   "cell_type": "code",
   "execution_count": null,
   "metadata": {
    "colab": {
     "base_uri": "https://localhost:8080/"
    },
    "id": "EndB77j2XxBd",
    "outputId": "13f732ef-9d77-4b7f-c943-9de68da17097"
   },
   "outputs": [],
   "source": [
    "import pandas as pd\n",
    "import numpy as np\n",
    "ds1 = pd.Series([1, 2, 3, 4, 5])\n",
    "ds2 = pd.Series([4, 5, 6, 7, 8, 1, 9])\n",
    "\n",
    "# TODO - выберите значения в ds1, которых нет в ds2: \n",
    "# [2, 3]\n",
    "wz = ~ds1.isin(ds2)\n",
    "print(wz)\n",
    "print(ds1[wz])"
   ]
  },
  {
   "cell_type": "markdown",
   "metadata": {
    "id": "zpEVG3hjZGfS"
   },
   "source": [
    "Оставьте в ряду два наиболее частых значения, остальные замените значением 'Другое':\n",
    "\n",
    "<details>\n",
    "<summary>Подсказка 1</summary>\n",
    "\n",
    "Для определения наиболее частых значений воспользуйтесь методом `Series.value_counts()`\n",
    "</details>\n",
    "\n",
    "<details>\n",
    "<summary>Подсказка 2</summary>\n",
    "\n",
    "Чтобы получить наиболее частые значения можно воспользоваться результатом `Series.value_counts()` - атрибутом `Series.index`\n",
    "</details>\n",
    "\n",
    "<details>\n",
    "<summary>Подсказка 3</summary>\n",
    "\n",
    "Получив наиболее частые значения, можно индексировать другие через маску метода `Series.isin()`\n",
    "</details>\n"
   ]
  },
  {
   "cell_type": "code",
   "execution_count": null,
   "metadata": {
    "colab": {
     "base_uri": "https://localhost:8080/"
    },
    "id": "6hexIuIsYw-D",
    "outputId": "6647a256-1c13-4aa2-cc8c-4a6b76dceabb"
   },
   "outputs": [],
   "source": [
    "import pandas as pd\n",
    "import numpy as np\n",
    "ds = pd.Series([2, 2, 2, 4, 4, 4, 3, 1, 1, 1, 1, 4])\n",
    "\n",
    "# TODO - определите два наиболее частых значения в ряду (1, 4),\n",
    "#           остальные замените значением 'Другое'\n",
    "# ['Другое', 'Другое', 'Другое', 4, 4, 4, 'Другое', 1, 1, 1, 1, 4]\n",
    "cy=ds.value_counts()\n",
    "ds[~ds.isin(cy.index[0:2])]='Другое'\n",
    "print(ds)"
   ]
  },
  {
   "cell_type": "markdown",
   "metadata": {
    "id": "oz2HQvOcb5SN"
   },
   "source": [
    "Сделайте каждую первую букву в словах ряда заглавной:"
   ]
  },
  {
   "cell_type": "code",
   "execution_count": null,
   "metadata": {
    "colab": {
     "base_uri": "https://localhost:8080/"
    },
    "id": "BN5CToI2ZhRK",
    "outputId": "d69be296-3b96-4e41-eb1d-96eabdebb058"
   },
   "outputs": [],
   "source": [
    "import pandas as pd\n",
    "import numpy as np\n",
    "ds = pd.Series(['how', 'to', 'use', 'pandas?'])\n",
    "\n",
    "# TODO - сделайте каждую первую букву заглавной с помощью Series.apply()\n",
    "def upw(x):\n",
    "  x=x.capitalize()\n",
    "  print(x)\n",
    "ds=ds.apply(upw)"
   ]
  },
  {
   "cell_type": "markdown",
   "metadata": {
    "id": "DMVceUcqd9RF"
   },
   "source": [
    "Выберите записи с максимальным значением по колонке `x1`:"
   ]
  },
  {
   "cell_type": "code",
   "execution_count": null,
   "metadata": {
    "colab": {
     "base_uri": "https://localhost:8080/"
    },
    "id": "W5CrazwJcF1O",
    "outputId": "64304f4e-8948-49e1-f5a9-75e5df5821a4"
   },
   "outputs": [],
   "source": [
    "import pandas as pd\n",
    "import numpy as np\n",
    "df = pd.DataFrame(\n",
    "    np.random.randint(0, 4, size=(15, 3)), \n",
    "    columns=['x1', 'x2', 'x3']\n",
    ")\n",
    "\n",
    "# TODO - выберите те записи, которые имеют x1 равный \n",
    "#           максимальному значению в колонке x1\n",
    "print('unsort-df:\\n', df)\n",
    "df1=df.sort_values(by='x1',axis='rows', ascending=False)\n",
    "print('sorted-df:\\n',df1)\n",
    "print('max num in x1:\\t', df1.iloc[0,0])"
   ]
  },
  {
   "cell_type": "markdown",
   "metadata": {
    "id": "Ct6PN4nCeqOA"
   },
   "source": [
    "Выведите количество пропусков в каждой колонке данных:"
   ]
  },
  {
   "cell_type": "code",
   "execution_count": null,
   "metadata": {
    "colab": {
     "base_uri": "https://localhost:8080/"
    },
    "id": "Nqmv3g3EeODD",
    "outputId": "b97bcf2b-065c-434a-c0de-084cd057eef8"
   },
   "outputs": [],
   "source": [
    "import pandas as pd\n",
    "import numpy as np\n",
    "df = pd.read_csv('https://raw.githubusercontent.com/Kail4eK/ml_edu/master/datasets/Cars93_miss.csv')\n",
    "\n",
    "# TODO - отобразите количество пропусков в данных по каждой колонке\n",
    "df.isna().sum()"
   ]
  },
  {
   "cell_type": "markdown",
   "metadata": {
    "id": "suuzAbGzhlX1"
   },
   "source": [
    "Замените пропущенные значения в колонке `Min.Price` средним значениям по этой колонке:"
   ]
  },
  {
   "cell_type": "code",
   "execution_count": null,
   "metadata": {
    "colab": {
     "base_uri": "https://localhost:8080/"
    },
    "id": "JVSvCfgThTh3",
    "outputId": "9896c253-02a8-40ff-c51e-6dcdda18c4bb"
   },
   "outputs": [],
   "source": [
    "import pandas as pd\n",
    "import numpy as np\n",
    "df = pd.read_csv('https://raw.githubusercontent.com/Kail4eK/ml_edu/master/datasets/Cars93_miss.csv')\n",
    "\n",
    "# TODO - заполните NaN в колонке Min.Price средним значением по этой колонке\n",
    "# NOTE - после заполнения убедитесь, что в этой колонке нет пропущенных\n",
    "#meanMP=df.loc[:, 'Min.Price'].mean()\n",
    "#df1=df\n",
    "#df2=df1.loc[:, 'Min.Price']\n",
    "#print(df2, '\\n-------------df2')\n",
    "#df3=df2.fillna(meanMP, inplace=False)\n",
    "#print(df3,'\\n---\\n', meanMP)\n",
    "\n",
    "df1=df\n",
    "df2=df1.loc[:, 'Min.Price']\n",
    "print('-----Min.Price 1-----\\n', df2)\n",
    "df2.fillna(df.loc[:, 'Min.Price'].mean(), inplace=True)\n",
    "print('-----Min.Price 2-----\\n', df2)"
   ]
  },
  {
   "cell_type": "markdown",
   "metadata": {
    "id": "FMmDLiwxg3W1"
   },
   "source": [
    "Отсортируйте и выведите фрейм с колонками в алфавитном порядке:"
   ]
  },
  {
   "cell_type": "code",
   "execution_count": null,
   "metadata": {
    "colab": {
     "base_uri": "https://localhost:8080/",
     "height": 312
    },
    "id": "0rcW6H5qf70T",
    "outputId": "dbe479c7-ea76-47e2-f2fa-30d5d8d0c71c"
   },
   "outputs": [],
   "source": [
    "import pandas as pd\n",
    "import numpy as np\n",
    "df = pd.DataFrame(np.random.randint(0, 10, size=(5, 6)), columns=list('fbecda'))\n",
    "\n",
    "# TODO - получите фрейм с отсортированными по именам колонкам (f e d c b a)\n",
    "# NOTE - сортировка должна быть автоматической\n",
    "print(df)\n",
    "df.sort_index(axis=1, ascending=False)"
   ]
  },
  {
   "cell_type": "markdown",
   "metadata": {
    "id": "sRobyGHAjlRm"
   },
   "source": [
    "Отобразите каждую 20ю запись во фрейме и только колонки `Manufacturer`, `Model`, `Type`:"
   ]
  },
  {
   "cell_type": "code",
   "execution_count": null,
   "metadata": {
    "colab": {
     "base_uri": "https://localhost:8080/"
    },
    "id": "kNNS2B5ai9GU",
    "outputId": "e1e59548-c8c9-4fc1-f8de-65a7dc0c5ce2"
   },
   "outputs": [],
   "source": [
    "import pandas as pd\n",
    "import numpy as np\n",
    "df = pd.read_csv('https://raw.githubusercontent.com/Kail4eK/ml_edu/master/datasets/Cars93_miss.csv')\n",
    "\n",
    "# TODO - отобразите запись с периодичностью во фрейме и определенные колонки\n",
    "MMT=df.loc[:, ['Manufacturer', 'Model', 'Type']]\n",
    "MMT.iloc[19,:]"
   ]
  },
  {
   "cell_type": "markdown",
   "metadata": {
    "id": "im7s33LdkZPq"
   },
   "source": [
    "Получите ряд, который содержит длины строк:"
   ]
  },
  {
   "cell_type": "code",
   "execution_count": null,
   "metadata": {
    "colab": {
     "base_uri": "https://localhost:8080/"
    },
    "id": "WKREEgzYj9Dv",
    "outputId": "5ddaad5c-ae3b-44ee-ae04-34df44ee1886"
   },
   "outputs": [],
   "source": [
    "import pandas as pd\n",
    "import numpy as np\n",
    "ds = pd.Series(['how', 'to', 'use', 'pandas?'])\n",
    "\n",
    "# TODO - создайте ряд, содержащий длины строк:\n",
    "# 0    3\n",
    "# 1    2\n",
    "# 2    3\n",
    "# 3    7\n",
    "# dtype: int64\n",
    "def lends(x):\n",
    "  return len(x)\n",
    "print(ds.apply(lends))"
   ]
  },
  {
   "cell_type": "code",
   "execution_count": null,
   "metadata": {
    "id": "C7LrZvzjmjdE"
   },
   "outputs": [],
   "source": []
  }
 ],
 "metadata": {
  "colab": {
   "collapsed_sections": [],
   "name": "Pr03_Pandas.ipynb",
   "provenance": []
  },
  "kernelspec": {
   "display_name": "Python 3",
   "language": "python",
   "name": "python3"
  },
  "language_info": {
   "codemirror_mode": {
    "name": "ipython",
    "version": 3
   },
   "file_extension": ".py",
   "mimetype": "text/x-python",
   "name": "python",
   "nbconvert_exporter": "python",
   "pygments_lexer": "ipython3",
   "version": "3.8.5"
  }
 },
 "nbformat": 4,
 "nbformat_minor": 1
}
